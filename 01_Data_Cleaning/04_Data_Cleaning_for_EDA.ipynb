{
 "cells": [
  {
   "cell_type": "markdown",
   "metadata": {},
   "source": [
    "<img src=\"https://i.imgur.com/Y6EMKKg.jpg\" style=\"float: left; margin: 15px;\" width=\"75\">\n",
    "\n",
    "\n",
    "# Data Cleaning for EDA\n",
    "\n",
    "**Author: Joseph Darby**\n",
    "\n",
    "---\n"
   ]
  },
  {
   "cell_type": "markdown",
   "metadata": {},
   "source": [
    "## Import Libraries"
   ]
  },
  {
   "cell_type": "code",
   "execution_count": 1,
   "metadata": {},
   "outputs": [],
   "source": [
    "import numpy as np\n",
    "import pandas as pd\n",
    "import sqlite3 as sql\n",
    "import matplotlib.pyplot as plt\n",
    "import seaborn as sns\n",
    "\n",
    "pd.options.display.max_columns = 200\n",
    "\n",
    "%matplotlib inline"
   ]
  },
  {
   "cell_type": "markdown",
   "metadata": {},
   "source": [
    "### Function to Create a Column with the Match Result"
   ]
  },
  {
   "cell_type": "code",
   "execution_count": 2,
   "metadata": {},
   "outputs": [],
   "source": [
    "def get_match_result(df):\n",
    "    \n",
    "    result_list = []\n",
    "    \n",
    "    for i in range(df.shape[0]):\n",
    "        home_score = df['home_team_goal'].iloc[i]\n",
    "        away_score = df['away_team_goal'].iloc[i]\n",
    "        if home_score > away_score:\n",
    "            result_list.append(\"W\")\n",
    "        elif home_score < away_score:\n",
    "            result_list.append(\"L\")\n",
    "        else:\n",
    "            result_list.append(\"D\")\n",
    "    df['match_result'] = result_list\n",
    "    \n",
    "    return \"Success!\""
   ]
  },
  {
   "cell_type": "markdown",
   "metadata": {},
   "source": [
    "## Import Match CSV and Create Dataframe"
   ]
  },
  {
   "cell_type": "code",
   "execution_count": 3,
   "metadata": {
    "scrolled": false
   },
   "outputs": [
    {
     "data": {
      "text/plain": [
       "'Success!'"
      ]
     },
     "execution_count": 3,
     "metadata": {},
     "output_type": "execute_result"
    }
   ],
   "source": [
    "# Dataframe of the \"Match\", \"Team\", \"League\", and \"Country\" tables joined together\n",
    "combined_df = pd.read_csv('./datasets_database/combined_tables.csv')\n",
    "\n",
    "# Add target vector columns that of the results of each match (Home-Win = 'W', Draw = \"D\", Away-Win = \"L\")\n",
    "get_match_result(combined_df)"
   ]
  },
  {
   "cell_type": "markdown",
   "metadata": {},
   "source": [
    "-----\n",
    "## Parsed Dataframe"
   ]
  },
  {
   "cell_type": "code",
   "execution_count": 4,
   "metadata": {},
   "outputs": [],
   "source": [
    "# Make a list of the features we are interested in modeling & exploring\n",
    "a_parsed_col_list = ['country','league_name', 'home_team', 'away_team', 'season', 'year_month', 'home_team_goal', \n",
    "                   'away_team_goal','match_result', 'match_api_id', 'stage', 'home_team_api_id', 'away_team_api_id', \n",
    "                   'B365A', 'B365D', 'B365H', 'BWA', 'BWD', 'BWH', 'IWA', 'IWD', 'IWH', 'away_player_1', 'home_player_1',\n",
    "                   'away_player_2', 'home_player_2','away_player_3', 'home_player_3','away_player_4', 'home_player_4',\n",
    "                   'away_player_5', 'home_player_5','away_player_6', 'home_player_6','away_player_7', 'home_player_7',\n",
    "                   'away_player_8', 'home_player_8','away_player_9', 'home_player_9', 'away_player_10', 'home_player_10',\n",
    "                   'away_player_11', 'home_player_11']\n",
    "\n",
    "\n",
    "# Create Dataframe of columns we are interested in & drop null observations\n",
    "parsed_df = combined_df[a_parsed_col_list].dropna()"
   ]
  },
  {
   "cell_type": "code",
   "execution_count": 5,
   "metadata": {},
   "outputs": [],
   "source": [
    "# The season year needs to be one year instead of a combined string in order to join on team and player attributes\n",
    "parsed_df['year'] = parsed_df['season'].map(lambda x: int(x[5:]))\n",
    "\n",
    "replace_dict = {2009: 2010, 2010: 2010, 2011: 2011, 2012: 2012, 2013: 2013, 2014: 2014, 2015: 2015, 2016: 2015}\n",
    "\n",
    "parsed_df['year'] = parsed_df['year'].map(replace_dict)\n",
    "\n",
    "parsed_df.drop(columns='season', inplace=True)"
   ]
  },
  {
   "cell_type": "code",
   "execution_count": 6,
   "metadata": {},
   "outputs": [],
   "source": [
    "# Home & Away_Player data types need to match that of the Player Attributes table\n",
    "col_dict = {}\n",
    "col_list = ['year', 'away_player_1', 'home_player_1','away_player_2', 'home_player_2','away_player_3', \n",
    "             'home_player_3','away_player_4', 'home_player_4','away_player_5', 'home_player_5', 'away_player_6', \n",
    "             'home_player_6','away_player_7', 'home_player_7','away_player_8', 'home_player_8','away_player_9', \n",
    "             'home_player_9', 'away_player_10', 'home_player_10','away_player_11', 'home_player_11']\n",
    "\n",
    "for each in col_list:\n",
    "    col_dict[each] = 'int64'\n",
    "    \n",
    "parsed_df = parsed_df.astype(col_dict)\n",
    "parsed_df.reset_index(drop = True, inplace = True)"
   ]
  },
  {
   "cell_type": "code",
   "execution_count": 7,
   "metadata": {},
   "outputs": [],
   "source": [
    "# Drop 'season' series and re-configure series layout\n",
    "b_parsed_col_list = ['country','league_name', 'home_team', 'away_team', 'year', 'year_month', 'home_team_goal', \n",
    "                   'away_team_goal','match_result', 'match_api_id', 'stage', 'home_team_api_id', 'away_team_api_id', \n",
    "                   'B365A', 'B365D', 'B365H', 'BWA', 'BWD', 'BWH', 'IWA', 'IWD', 'IWH', 'away_player_1', 'home_player_1',\n",
    "                   'away_player_2', 'home_player_2','away_player_3', 'home_player_3','away_player_4', 'home_player_4',\n",
    "                   'away_player_5', 'home_player_5','away_player_6', 'home_player_6','away_player_7', 'home_player_7',\n",
    "                   'away_player_8', 'home_player_8','away_player_9', 'home_player_9', 'away_player_10', 'home_player_10',\n",
    "                   'away_player_11', 'home_player_11']\n",
    "\n",
    "# Create Dataframe of columns we are interested in & drop null observations\n",
    "parsed_df = parsed_df[b_parsed_col_list]"
   ]
  },
  {
   "cell_type": "code",
   "execution_count": 8,
   "metadata": {
    "scrolled": true
   },
   "outputs": [
    {
     "data": {
      "text/plain": [
       "(19620, 44)"
      ]
     },
     "execution_count": 8,
     "metadata": {},
     "output_type": "execute_result"
    }
   ],
   "source": [
    "parsed_df.shape"
   ]
  },
  {
   "cell_type": "markdown",
   "metadata": {},
   "source": [
    "---\n",
    "# Incorporate Team Attributes\n",
    "\n",
    "## Created a Function:\n",
    "\n",
    "- Imports Team Attributes\n",
    "- Removes unneccssary columns\n",
    "- Reorganizes column layout\n",
    "- **Removes rows where there are multiple listings per team team by year**"
   ]
  },
  {
   "cell_type": "code",
   "execution_count": 9,
   "metadata": {
    "scrolled": true
   },
   "outputs": [],
   "source": [
    "def create_clean_df(path, prefix):\n",
    "    # Team Attributes dataframe to merge & drop unnecessary columns\n",
    "    df = pd.read_csv(path)\n",
    "    df.drop(columns = ['buildUpPlayDribbling', 'team_fifa_api_id'], inplace = True)\n",
    "    \n",
    "    # Create 'date_year' column and drop 'date'\n",
    "    df['year'] = df['year_month'].map(lambda x: int(x[:4]))\n",
    "    \n",
    "    # Change column order & reset index after sort\n",
    "    team_col_order = ['home_team_api_id', 'home_year', 'home_year_month','home_buildUpPlaySpeed', 'home_buildUpPlaySpeedClass', \n",
    "                      'home_buildUpPlayDribblingClass','home_buildUpPlayPassing', 'home_buildUpPlayPassingClass',\n",
    "                      'home_buildUpPlayPositioningClass','home_chanceCreationPassing', 'home_chanceCreationPassingClass',\n",
    "                      'home_chanceCreationCrossing','home_chanceCreationCrossingClass', 'home_chanceCreationShooting',\n",
    "                      'home_chanceCreationShootingClass','home_chanceCreationPositioningClass', 'home_defencePressure',\n",
    "                      'home_defencePressureClass','home_defenceAggression', 'home_defenceAggressionClass',\n",
    "                      'home_defenceTeamWidth','home_defenceTeamWidthClass', 'home_defenceDefenderLineClass']\n",
    "    new_order = [each.replace('home_','') for each in team_col_order]\n",
    "    df = df[new_order]\n",
    "    df = df.sort_values(by= ['team_api_id', 'year'], ascending=[True, True]).reset_index(drop=True)\n",
    "    \n",
    "    # Remove rows where a team has multiple rows for the same year\n",
    "    # Create a set of team_id's\n",
    "    api_id_set = set(df['team_api_id'].values)\n",
    "\n",
    "    # Create a list of team_id's and all years on record\n",
    "    all_team_years = []\n",
    "    for team_id in api_id_set:\n",
    "        team_years = df[df.loc[:, 'team_api_id'] == team_id]['year']\n",
    "        for record in team_years:\n",
    "            all_team_years.append(f'{team_id}, {record}')\n",
    "\n",
    "    # Create a set indicating team and duplicated year\n",
    "    all_duplicates = []\n",
    "    for each_listing in all_team_years:\n",
    "        if all_team_years.count(each_listing) > 1:\n",
    "            all_duplicates.append(each_listing)\n",
    "        else:\n",
    "            continue\n",
    "    all_duplicates = list(set(all_duplicates))\n",
    "    \n",
    "    # Keep one row but remove the other duplicated year rows per team in the set\n",
    "    for each in all_duplicates:\n",
    "        indexes_to_drop = df[(df['team_api_id'] == int(each[0:4])) & (df['year'] == int(each[6:]))].index[1:]\n",
    "        df.drop(indexes_to_drop, inplace = True)\n",
    "\n",
    "    # add 'home_' or 'away_'\n",
    "    df = df.add_prefix(prefix)    \n",
    "    return df"
   ]
  },
  {
   "cell_type": "markdown",
   "metadata": {},
   "source": [
    "## Home Team Dataframe"
   ]
  },
  {
   "cell_type": "code",
   "execution_count": 21,
   "metadata": {},
   "outputs": [
    {
     "name": "stdout",
     "output_type": "stream",
     "text": [
      "(1457, 23)\n"
     ]
    },
    {
     "data": {
      "text/html": [
       "<div>\n",
       "<style scoped>\n",
       "    .dataframe tbody tr th:only-of-type {\n",
       "        vertical-align: middle;\n",
       "    }\n",
       "\n",
       "    .dataframe tbody tr th {\n",
       "        vertical-align: top;\n",
       "    }\n",
       "\n",
       "    .dataframe thead th {\n",
       "        text-align: right;\n",
       "    }\n",
       "</style>\n",
       "<table border=\"1\" class=\"dataframe\">\n",
       "  <thead>\n",
       "    <tr style=\"text-align: right;\">\n",
       "      <th></th>\n",
       "      <th>home_team_api_id</th>\n",
       "      <th>home_year</th>\n",
       "      <th>home_year_month</th>\n",
       "      <th>home_buildUpPlaySpeed</th>\n",
       "      <th>home_buildUpPlaySpeedClass</th>\n",
       "      <th>home_buildUpPlayDribblingClass</th>\n",
       "      <th>home_buildUpPlayPassing</th>\n",
       "      <th>home_buildUpPlayPassingClass</th>\n",
       "      <th>home_buildUpPlayPositioningClass</th>\n",
       "      <th>home_chanceCreationPassing</th>\n",
       "      <th>home_chanceCreationPassingClass</th>\n",
       "      <th>home_chanceCreationCrossing</th>\n",
       "      <th>home_chanceCreationCrossingClass</th>\n",
       "      <th>home_chanceCreationShooting</th>\n",
       "      <th>home_chanceCreationShootingClass</th>\n",
       "      <th>home_chanceCreationPositioningClass</th>\n",
       "      <th>home_defencePressure</th>\n",
       "      <th>home_defencePressureClass</th>\n",
       "      <th>home_defenceAggression</th>\n",
       "      <th>home_defenceAggressionClass</th>\n",
       "      <th>home_defenceTeamWidth</th>\n",
       "      <th>home_defenceTeamWidthClass</th>\n",
       "      <th>home_defenceDefenderLineClass</th>\n",
       "    </tr>\n",
       "  </thead>\n",
       "  <tbody>\n",
       "    <tr>\n",
       "      <th>0</th>\n",
       "      <td>1601</td>\n",
       "      <td>2010</td>\n",
       "      <td>2010-02-01</td>\n",
       "      <td>30</td>\n",
       "      <td>Slow</td>\n",
       "      <td>Little</td>\n",
       "      <td>40</td>\n",
       "      <td>Mixed</td>\n",
       "      <td>Organised</td>\n",
       "      <td>50</td>\n",
       "      <td>Normal</td>\n",
       "      <td>35</td>\n",
       "      <td>Normal</td>\n",
       "      <td>70</td>\n",
       "      <td>Lots</td>\n",
       "      <td>Organised</td>\n",
       "      <td>65</td>\n",
       "      <td>Medium</td>\n",
       "      <td>60</td>\n",
       "      <td>Press</td>\n",
       "      <td>50</td>\n",
       "      <td>Normal</td>\n",
       "      <td>Cover</td>\n",
       "    </tr>\n",
       "    <tr>\n",
       "      <th>1</th>\n",
       "      <td>1601</td>\n",
       "      <td>2011</td>\n",
       "      <td>2011-02-01</td>\n",
       "      <td>48</td>\n",
       "      <td>Balanced</td>\n",
       "      <td>Little</td>\n",
       "      <td>51</td>\n",
       "      <td>Mixed</td>\n",
       "      <td>Organised</td>\n",
       "      <td>68</td>\n",
       "      <td>Risky</td>\n",
       "      <td>67</td>\n",
       "      <td>Lots</td>\n",
       "      <td>51</td>\n",
       "      <td>Normal</td>\n",
       "      <td>Organised</td>\n",
       "      <td>46</td>\n",
       "      <td>Medium</td>\n",
       "      <td>48</td>\n",
       "      <td>Press</td>\n",
       "      <td>50</td>\n",
       "      <td>Normal</td>\n",
       "      <td>Cover</td>\n",
       "    </tr>\n",
       "    <tr>\n",
       "      <th>2</th>\n",
       "      <td>1601</td>\n",
       "      <td>2012</td>\n",
       "      <td>2012-02-01</td>\n",
       "      <td>53</td>\n",
       "      <td>Balanced</td>\n",
       "      <td>Little</td>\n",
       "      <td>55</td>\n",
       "      <td>Mixed</td>\n",
       "      <td>Organised</td>\n",
       "      <td>44</td>\n",
       "      <td>Normal</td>\n",
       "      <td>65</td>\n",
       "      <td>Normal</td>\n",
       "      <td>50</td>\n",
       "      <td>Normal</td>\n",
       "      <td>Organised</td>\n",
       "      <td>43</td>\n",
       "      <td>Medium</td>\n",
       "      <td>44</td>\n",
       "      <td>Press</td>\n",
       "      <td>49</td>\n",
       "      <td>Normal</td>\n",
       "      <td>Cover</td>\n",
       "    </tr>\n",
       "    <tr>\n",
       "      <th>3</th>\n",
       "      <td>1601</td>\n",
       "      <td>2013</td>\n",
       "      <td>2013-09-01</td>\n",
       "      <td>53</td>\n",
       "      <td>Balanced</td>\n",
       "      <td>Little</td>\n",
       "      <td>55</td>\n",
       "      <td>Mixed</td>\n",
       "      <td>Organised</td>\n",
       "      <td>44</td>\n",
       "      <td>Normal</td>\n",
       "      <td>65</td>\n",
       "      <td>Normal</td>\n",
       "      <td>50</td>\n",
       "      <td>Normal</td>\n",
       "      <td>Organised</td>\n",
       "      <td>43</td>\n",
       "      <td>Medium</td>\n",
       "      <td>44</td>\n",
       "      <td>Press</td>\n",
       "      <td>49</td>\n",
       "      <td>Normal</td>\n",
       "      <td>Cover</td>\n",
       "    </tr>\n",
       "    <tr>\n",
       "      <th>4</th>\n",
       "      <td>1601</td>\n",
       "      <td>2014</td>\n",
       "      <td>2014-09-01</td>\n",
       "      <td>53</td>\n",
       "      <td>Balanced</td>\n",
       "      <td>Normal</td>\n",
       "      <td>38</td>\n",
       "      <td>Mixed</td>\n",
       "      <td>Organised</td>\n",
       "      <td>66</td>\n",
       "      <td>Normal</td>\n",
       "      <td>65</td>\n",
       "      <td>Normal</td>\n",
       "      <td>50</td>\n",
       "      <td>Normal</td>\n",
       "      <td>Organised</td>\n",
       "      <td>43</td>\n",
       "      <td>Medium</td>\n",
       "      <td>44</td>\n",
       "      <td>Press</td>\n",
       "      <td>49</td>\n",
       "      <td>Normal</td>\n",
       "      <td>Cover</td>\n",
       "    </tr>\n",
       "  </tbody>\n",
       "</table>\n",
       "</div>"
      ],
      "text/plain": [
       "   home_team_api_id  home_year home_year_month  home_buildUpPlaySpeed  \\\n",
       "0              1601       2010      2010-02-01                     30   \n",
       "1              1601       2011      2011-02-01                     48   \n",
       "2              1601       2012      2012-02-01                     53   \n",
       "3              1601       2013      2013-09-01                     53   \n",
       "4              1601       2014      2014-09-01                     53   \n",
       "\n",
       "  home_buildUpPlaySpeedClass home_buildUpPlayDribblingClass  \\\n",
       "0                       Slow                         Little   \n",
       "1                   Balanced                         Little   \n",
       "2                   Balanced                         Little   \n",
       "3                   Balanced                         Little   \n",
       "4                   Balanced                         Normal   \n",
       "\n",
       "   home_buildUpPlayPassing home_buildUpPlayPassingClass  \\\n",
       "0                       40                        Mixed   \n",
       "1                       51                        Mixed   \n",
       "2                       55                        Mixed   \n",
       "3                       55                        Mixed   \n",
       "4                       38                        Mixed   \n",
       "\n",
       "  home_buildUpPlayPositioningClass  home_chanceCreationPassing  \\\n",
       "0                        Organised                          50   \n",
       "1                        Organised                          68   \n",
       "2                        Organised                          44   \n",
       "3                        Organised                          44   \n",
       "4                        Organised                          66   \n",
       "\n",
       "  home_chanceCreationPassingClass  home_chanceCreationCrossing  \\\n",
       "0                          Normal                           35   \n",
       "1                           Risky                           67   \n",
       "2                          Normal                           65   \n",
       "3                          Normal                           65   \n",
       "4                          Normal                           65   \n",
       "\n",
       "  home_chanceCreationCrossingClass  home_chanceCreationShooting  \\\n",
       "0                           Normal                           70   \n",
       "1                             Lots                           51   \n",
       "2                           Normal                           50   \n",
       "3                           Normal                           50   \n",
       "4                           Normal                           50   \n",
       "\n",
       "  home_chanceCreationShootingClass home_chanceCreationPositioningClass  \\\n",
       "0                             Lots                           Organised   \n",
       "1                           Normal                           Organised   \n",
       "2                           Normal                           Organised   \n",
       "3                           Normal                           Organised   \n",
       "4                           Normal                           Organised   \n",
       "\n",
       "   home_defencePressure home_defencePressureClass  home_defenceAggression  \\\n",
       "0                    65                    Medium                      60   \n",
       "1                    46                    Medium                      48   \n",
       "2                    43                    Medium                      44   \n",
       "3                    43                    Medium                      44   \n",
       "4                    43                    Medium                      44   \n",
       "\n",
       "  home_defenceAggressionClass  home_defenceTeamWidth  \\\n",
       "0                       Press                     50   \n",
       "1                       Press                     50   \n",
       "2                       Press                     49   \n",
       "3                       Press                     49   \n",
       "4                       Press                     49   \n",
       "\n",
       "  home_defenceTeamWidthClass home_defenceDefenderLineClass  \n",
       "0                     Normal                         Cover  \n",
       "1                     Normal                         Cover  \n",
       "2                     Normal                         Cover  \n",
       "3                     Normal                         Cover  \n",
       "4                     Normal                         Cover  "
      ]
     },
     "execution_count": 21,
     "metadata": {},
     "output_type": "execute_result"
    }
   ],
   "source": [
    "# Dataframe of the \"Match\", \"Team\", \"League\", and \"Country\" tables joined together\n",
    "home_team_df = pd.read_csv('./datasets_database/team_attributes.csv')\n",
    "\n",
    "# Use custom function on Home Team data\n",
    "home_team_df = create_clean_df('./datasets_database/team_attributes.csv', 'home_')\n",
    "\n",
    "print(home_team_df.shape)\n",
    "home_team_df.head()"
   ]
  },
  {
   "cell_type": "markdown",
   "metadata": {},
   "source": [
    "## Away Team Dataframe"
   ]
  },
  {
   "cell_type": "code",
   "execution_count": 13,
   "metadata": {},
   "outputs": [],
   "source": [
    "# Use custom function on Home Team data\n",
    "away_team_df = create_clean_df('./datasets_database/team_attributes.csv', 'away_')\n",
    "\n",
    "print(away_team_df.shape)\n",
    "away_team_df.head()"
   ]
  },
  {
   "cell_type": "markdown",
   "metadata": {},
   "source": [
    "### Merge all three together"
   ]
  },
  {
   "cell_type": "code",
   "execution_count": 15,
   "metadata": {},
   "outputs": [],
   "source": [
    "parsed_df = pd.merge(parsed_df, home_team_df, left_on=['home_team_api_id', 'year'], right_on=['home_team_api_id', 'home_year'], how='left')\n",
    "parsed_df = pd.merge(parsed_df, away_team_df, left_on=['away_team_api_id', 'year'], right_on=['away_team_api_id', 'away_year'], how='left')"
   ]
  },
  {
   "cell_type": "markdown",
   "metadata": {},
   "source": [
    "# Player Attributes\n",
    "\n",
    "I read in the player_attributes.csv and mapped the names and the player's average overall Fifa rating to the merged dataframe."
   ]
  },
  {
   "cell_type": "code",
   "execution_count": 16,
   "metadata": {},
   "outputs": [],
   "source": [
    "# Import CSV\n",
    "player_attr_df = pd.read_csv('./datasets_database/player_attributes.csv')"
   ]
  },
  {
   "cell_type": "code",
   "execution_count": 17,
   "metadata": {},
   "outputs": [],
   "source": [
    "# Create a dictionary to map player names\n",
    "num_id = list(player_attr_df[\"player_api_id\"].values)\n",
    "player_name = list(player_attr_df['player_name'].values)\n",
    "player_dict = dict(zip(num_id, player_name))"
   ]
  },
  {
   "cell_type": "code",
   "execution_count": 18,
   "metadata": {},
   "outputs": [],
   "source": [
    "# Create a dictionary to map each player's average overall rating\n",
    "avg_df = player_attr_df.groupby(by='player_api_id').mean()\n",
    "overall_rate_dict = dict(avg_df.overall_rating)\n",
    "\n",
    "# Create a list of the series to map over\n",
    "player_series_list = ['away_player_1', 'home_player_1', 'away_player_2', 'home_player_2', 'away_player_3',\n",
    "                      'home_player_3', 'away_player_4', 'home_player_4', 'away_player_5', 'home_player_5', \n",
    "                      'away_player_6', 'home_player_6', 'away_player_7', 'home_player_7', 'away_player_8', \n",
    "                      'home_player_8', 'away_player_9', 'home_player_9', 'away_player_10', 'home_player_10', \n",
    "                      'away_player_11', 'home_player_11']\n",
    "\n",
    "# Create a for loop to map names and create overall rating columns\n",
    "for each in player_series_list:\n",
    "    parsed_df[each + '_rating'] = parsed_df[each].map(overall_rate_dict)\n",
    "    parsed_df[each] = parsed_df[each].map(player_dict)"
   ]
  },
  {
   "cell_type": "code",
   "execution_count": 19,
   "metadata": {},
   "outputs": [],
   "source": [
    "# Re-configure column layout and perge columns that are no longer needed\n",
    "col = ['country', 'league_name', 'home_team', 'away_team', 'year', 'year_month', 'home_team_goal', 'away_team_goal', \n",
    "       'match_result', 'B365A', 'B365D', 'B365H', 'BWA', 'BWD', 'BWH', 'IWA', 'IWD', 'IWH', 'home_player_1', \n",
    "       'home_player_1_rating', 'home_player_2', 'home_player_2_rating','home_player_3', 'home_player_3_rating',\n",
    "       'home_player_4', 'home_player_4_rating', 'home_player_5','home_player_5_rating', 'home_player_6', \n",
    "       'home_player_6_rating', 'home_player_7', 'home_player_7_rating', 'home_player_8', 'home_player_8_rating', \n",
    "       'home_player_9', 'home_player_9_rating', 'home_player_10', 'home_player_10_rating', 'home_player_11',\n",
    "       'home_player_11_rating', 'away_player_1', 'away_player_1_rating','away_player_2', 'away_player_2_rating', \n",
    "       'away_player_3', 'away_player_3_rating', 'away_player_4', 'away_player_4_rating', 'away_player_5',\n",
    "       'away_player_5_rating', 'away_player_6', 'away_player_6_rating','away_player_7', 'away_player_7_rating',\n",
    "       'away_player_8', 'away_player_8_rating', 'away_player_9', \n",
    "       'away_player_9_rating', 'away_player_10', 'away_player_10_rating', 'away_player_11', 'away_player_11_rating',\n",
    "       'home_buildUpPlaySpeed', 'home_buildUpPlaySpeedClass', 'home_buildUpPlayDribblingClass',\n",
    "       'home_buildUpPlayPassing', 'home_buildUpPlayPassingClass', 'home_buildUpPlayPositioningClass',\n",
    "       'home_chanceCreationPassing', 'home_chanceCreationPassingClass', 'home_chanceCreationCrossing',\n",
    "       'home_chanceCreationCrossingClass', 'home_chanceCreationShooting', 'home_chanceCreationShootingClass',\n",
    "       'home_chanceCreationPositioningClass', 'home_defencePressure', 'home_defencePressureClass', 'home_defenceAggression',\n",
    "       'home_defenceAggressionClass', 'home_defenceTeamWidth', 'home_defenceTeamWidthClass', 'home_defenceDefenderLineClass',\n",
    "       'away_buildUpPlaySpeed', 'away_buildUpPlaySpeedClass', 'away_buildUpPlayDribblingClass', \n",
    "       'away_buildUpPlayPassing', 'away_buildUpPlayPassingClass', 'away_buildUpPlayPositioningClass',\n",
    "       'away_chanceCreationPassing', 'away_chanceCreationPassingClass', 'away_chanceCreationCrossing',\n",
    "       'away_chanceCreationCrossingClass', 'away_chanceCreationShooting', 'away_chanceCreationShootingClass', \n",
    "       'away_chanceCreationPositioningClass', 'away_defencePressure', 'away_defencePressureClass', 'away_defenceAggression',\n",
    "       'away_defenceAggressionClass', 'away_defenceTeamWidth', 'away_defenceTeamWidthClass', 'away_defenceDefenderLineClass']"
   ]
  },
  {
   "cell_type": "code",
   "execution_count": 20,
   "metadata": {},
   "outputs": [],
   "source": [
    "# Assign new layout to a new dataframe and save dataframe to a csv for EDA and modeling\n",
    "parsed_df = parsed_df[col]\n",
    "parsed_df.to_csv('./datasets_database/6.11_combined_df.csv')"
   ]
  },
  {
   "cell_type": "code",
   "execution_count": null,
   "metadata": {},
   "outputs": [],
   "source": []
  }
 ],
 "metadata": {
  "kernelspec": {
   "display_name": "Python 3",
   "language": "python",
   "name": "python3"
  },
  "language_info": {
   "codemirror_mode": {
    "name": "ipython",
    "version": 3
   },
   "file_extension": ".py",
   "mimetype": "text/x-python",
   "name": "python",
   "nbconvert_exporter": "python",
   "pygments_lexer": "ipython3",
   "version": "3.7.3"
  }
 },
 "nbformat": 4,
 "nbformat_minor": 2
}
