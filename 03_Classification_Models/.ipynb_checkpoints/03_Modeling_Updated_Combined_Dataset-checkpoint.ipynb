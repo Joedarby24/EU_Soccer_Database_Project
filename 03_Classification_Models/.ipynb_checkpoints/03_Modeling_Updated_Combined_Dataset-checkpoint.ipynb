{
 "cells": [
  {
   "cell_type": "markdown",
   "metadata": {},
   "source": [
    "<img src=\"https://i.imgur.com/Y6EMKKg.jpg\" style=\"float: left; margin: 15px;\" width=\"75\">\n",
    "\n",
    "## Modelling Parsed Dataframe: 22,568 observations\n",
    "\n",
    "Joseph Darby\n",
    "\n",
    "---"
   ]
  },
  {
   "cell_type": "markdown",
   "metadata": {},
   "source": [
    "## Import Libraries"
   ]
  },
  {
   "cell_type": "code",
   "execution_count": 12,
   "metadata": {},
   "outputs": [],
   "source": [
    "import numpy as np\n",
    "import pandas as pd\n",
    "import seaborn as sns\n",
    "import matplotlib.pyplot as plt\n",
    "from sklearn.ensemble import RandomForestClassifier, GradientBoostingClassifier\n",
    "from sklearn.linear_model import LogisticRegression \n",
    "from sklearn.model_selection import train_test_split, cross_val_score, GridSearchCV\n",
    "from sklearn.metrics import classification_report\n",
    "from sklearn.metrics import accuracy_score, precision_score, f1_score, recall_score\n",
    "from sklearn.tree import DecisionTreeClassifier\n",
    "\n",
    "%matplotlib inline"
   ]
  },
  {
   "cell_type": "markdown",
   "metadata": {},
   "source": [
    "## Load Dataset"
   ]
  },
  {
   "cell_type": "markdown",
   "metadata": {},
   "source": [
    "The dataset that I will be working with in this notebook is my hand-selected features dataframe with all observations with null values removed. The amount of match observations is significantly higher than the comprehensive dataframe in the previous notebook. This data-set has 22,568 match observations compared to the 1762 in the previous data-set."
   ]
  },
  {
   "cell_type": "code",
   "execution_count": 109,
   "metadata": {},
   "outputs": [],
   "source": [
    "# Read in data.\n",
    "df = pd.read_csv('../01_Data_Cleaning/datasets_database/6.11_combined_df.csv')\n",
    "df['result'] = df['match_result'].map({'L' : 0, 'D': 1, 'W': 2})"
   ]
  },
  {
   "cell_type": "code",
   "execution_count": 110,
   "metadata": {},
   "outputs": [],
   "source": [
    "# Drop player names as adding dummies to these values would greatly increase the dimensions of the dataframe\n",
    "no_player_names = ['country', 'home_team', 'away_team', 'year', 'home_team_goal', 'away_team_goal',\n",
    "                   'B365A', 'B365D', 'B365H', 'BWA', 'BWD', 'BWH', 'IWA', 'IWD', 'IWH', \n",
    "                   'home_player_1_rating', 'home_player_2_rating', 'home_player_3_rating',\n",
    "                   'home_player_4_rating', 'home_player_5_rating', 'home_player_6_rating', 'home_player_7_rating',\n",
    "                   'home_player_8_rating', 'home_player_9_rating', 'home_player_10_rating', 'home_player_11_rating',\n",
    "                   'away_player_1_rating', 'away_player_2_rating', 'away_player_3_rating', 'away_player_4_rating',\n",
    "                   'away_player_5_rating', 'away_player_6_rating', 'away_player_7_rating', 'away_player_8_rating',\n",
    "                   'away_player_9_rating', 'away_player_10_rating', 'away_player_11_rating', 'home_buildUpPlaySpeed',\n",
    "                   'home_buildUpPlaySpeedClass', 'home_buildUpPlayDribblingClass', 'home_buildUpPlayPassing',\n",
    "                   'home_buildUpPlayPassingClass', 'home_buildUpPlayPositioningClass', 'home_chanceCreationPassing',\n",
    "                   'home_chanceCreationPassingClass', 'home_chanceCreationCrossing', 'home_chanceCreationCrossingClass',\n",
    "                   'home_chanceCreationShooting', 'home_chanceCreationShootingClass', 'home_chanceCreationPositioningClass',\n",
    "                   'home_defencePressure', 'home_defencePressureClass', 'home_defenceAggression', 'home_defenceAggressionClass',\n",
    "                   'home_defenceTeamWidth', 'home_defenceTeamWidthClass', 'home_defenceDefenderLineClass', \n",
    "                   'away_buildUpPlaySpeed', 'away_buildUpPlaySpeedClass', 'away_buildUpPlayDribblingClass', 'away_buildUpPlayPassing',\n",
    "                   'away_buildUpPlayPassingClass', 'away_buildUpPlayPositioningClass', 'away_chanceCreationPassing',\n",
    "                   'away_chanceCreationPassingClass', 'away_chanceCreationCrossing', 'away_chanceCreationCrossingClass',\n",
    "                   'away_chanceCreationShooting', 'away_chanceCreationShootingClass', 'away_chanceCreationPositioningClass',\n",
    "                   'away_defencePressure', 'away_defencePressureClass', 'away_defenceAggression', 'away_defenceAggressionClass',\n",
    "                   'away_defenceTeamWidth', 'away_defenceTeamWidthClass', 'away_defenceDefenderLineClass', 'result']"
   ]
  },
  {
   "cell_type": "code",
   "execution_count": 111,
   "metadata": {},
   "outputs": [],
   "source": [
    "#drop nulls if there are any remaining & get dummies for 'object' type features\n",
    "df = df[no_player_names].dropna()\n",
    "df = pd.get_dummies(df, drop_first=True)"
   ]
  },
  {
   "cell_type": "code",
   "execution_count": 112,
   "metadata": {
    "scrolled": false
   },
   "outputs": [
    {
     "data": {
      "text/html": [
       "<div>\n",
       "<style scoped>\n",
       "    .dataframe tbody tr th:only-of-type {\n",
       "        vertical-align: middle;\n",
       "    }\n",
       "\n",
       "    .dataframe tbody tr th {\n",
       "        vertical-align: top;\n",
       "    }\n",
       "\n",
       "    .dataframe thead th {\n",
       "        text-align: right;\n",
       "    }\n",
       "</style>\n",
       "<table border=\"1\" class=\"dataframe\">\n",
       "  <thead>\n",
       "    <tr style=\"text-align: right;\">\n",
       "      <th></th>\n",
       "      <th>year</th>\n",
       "      <th>home_team_goal</th>\n",
       "      <th>away_team_goal</th>\n",
       "      <th>B365A</th>\n",
       "      <th>B365D</th>\n",
       "      <th>B365H</th>\n",
       "      <th>BWA</th>\n",
       "      <th>BWD</th>\n",
       "      <th>BWH</th>\n",
       "      <th>IWA</th>\n",
       "      <th>...</th>\n",
       "      <th>away_chanceCreationShootingClass_Lots</th>\n",
       "      <th>away_chanceCreationShootingClass_Normal</th>\n",
       "      <th>away_chanceCreationPositioningClass_Organised</th>\n",
       "      <th>away_defencePressureClass_High</th>\n",
       "      <th>away_defencePressureClass_Medium</th>\n",
       "      <th>away_defenceAggressionClass_Double</th>\n",
       "      <th>away_defenceAggressionClass_Press</th>\n",
       "      <th>away_defenceTeamWidthClass_Normal</th>\n",
       "      <th>away_defenceTeamWidthClass_Wide</th>\n",
       "      <th>away_defenceDefenderLineClass_Offside Trap</th>\n",
       "    </tr>\n",
       "  </thead>\n",
       "  <tbody>\n",
       "    <tr>\n",
       "      <th>0</th>\n",
       "      <td>2010</td>\n",
       "      <td>2</td>\n",
       "      <td>1</td>\n",
       "      <td>2.30</td>\n",
       "      <td>3.4</td>\n",
       "      <td>3.00</td>\n",
       "      <td>2.20</td>\n",
       "      <td>3.25</td>\n",
       "      <td>2.95</td>\n",
       "      <td>2.2</td>\n",
       "      <td>...</td>\n",
       "      <td>0</td>\n",
       "      <td>1</td>\n",
       "      <td>1</td>\n",
       "      <td>1</td>\n",
       "      <td>0</td>\n",
       "      <td>0</td>\n",
       "      <td>1</td>\n",
       "      <td>0</td>\n",
       "      <td>1</td>\n",
       "      <td>0</td>\n",
       "    </tr>\n",
       "    <tr>\n",
       "      <th>1</th>\n",
       "      <td>2010</td>\n",
       "      <td>1</td>\n",
       "      <td>3</td>\n",
       "      <td>2.37</td>\n",
       "      <td>3.2</td>\n",
       "      <td>2.80</td>\n",
       "      <td>2.20</td>\n",
       "      <td>3.00</td>\n",
       "      <td>3.10</td>\n",
       "      <td>2.2</td>\n",
       "      <td>...</td>\n",
       "      <td>0</td>\n",
       "      <td>1</td>\n",
       "      <td>1</td>\n",
       "      <td>0</td>\n",
       "      <td>1</td>\n",
       "      <td>1</td>\n",
       "      <td>0</td>\n",
       "      <td>0</td>\n",
       "      <td>1</td>\n",
       "      <td>0</td>\n",
       "    </tr>\n",
       "    <tr>\n",
       "      <th>2</th>\n",
       "      <td>2010</td>\n",
       "      <td>2</td>\n",
       "      <td>0</td>\n",
       "      <td>8.00</td>\n",
       "      <td>4.5</td>\n",
       "      <td>1.40</td>\n",
       "      <td>9.00</td>\n",
       "      <td>4.00</td>\n",
       "      <td>1.35</td>\n",
       "      <td>7.0</td>\n",
       "      <td>...</td>\n",
       "      <td>0</td>\n",
       "      <td>1</td>\n",
       "      <td>1</td>\n",
       "      <td>1</td>\n",
       "      <td>0</td>\n",
       "      <td>0</td>\n",
       "      <td>1</td>\n",
       "      <td>0</td>\n",
       "      <td>1</td>\n",
       "      <td>0</td>\n",
       "    </tr>\n",
       "    <tr>\n",
       "      <th>3</th>\n",
       "      <td>2010</td>\n",
       "      <td>2</td>\n",
       "      <td>1</td>\n",
       "      <td>1.75</td>\n",
       "      <td>3.6</td>\n",
       "      <td>4.50</td>\n",
       "      <td>1.70</td>\n",
       "      <td>3.30</td>\n",
       "      <td>4.70</td>\n",
       "      <td>1.7</td>\n",
       "      <td>...</td>\n",
       "      <td>0</td>\n",
       "      <td>1</td>\n",
       "      <td>1</td>\n",
       "      <td>1</td>\n",
       "      <td>0</td>\n",
       "      <td>0</td>\n",
       "      <td>1</td>\n",
       "      <td>0</td>\n",
       "      <td>1</td>\n",
       "      <td>0</td>\n",
       "    </tr>\n",
       "    <tr>\n",
       "      <th>4</th>\n",
       "      <td>2010</td>\n",
       "      <td>0</td>\n",
       "      <td>0</td>\n",
       "      <td>4.75</td>\n",
       "      <td>3.5</td>\n",
       "      <td>1.75</td>\n",
       "      <td>5.05</td>\n",
       "      <td>3.55</td>\n",
       "      <td>1.60</td>\n",
       "      <td>4.2</td>\n",
       "      <td>...</td>\n",
       "      <td>0</td>\n",
       "      <td>1</td>\n",
       "      <td>1</td>\n",
       "      <td>0</td>\n",
       "      <td>1</td>\n",
       "      <td>1</td>\n",
       "      <td>0</td>\n",
       "      <td>0</td>\n",
       "      <td>1</td>\n",
       "      <td>0</td>\n",
       "    </tr>\n",
       "  </tbody>\n",
       "</table>\n",
       "<p>5 rows × 599 columns</p>\n",
       "</div>"
      ],
      "text/plain": [
       "   year  home_team_goal  away_team_goal  B365A  B365D  B365H   BWA   BWD  \\\n",
       "0  2010               2               1   2.30    3.4   3.00  2.20  3.25   \n",
       "1  2010               1               3   2.37    3.2   2.80  2.20  3.00   \n",
       "2  2010               2               0   8.00    4.5   1.40  9.00  4.00   \n",
       "3  2010               2               1   1.75    3.6   4.50  1.70  3.30   \n",
       "4  2010               0               0   4.75    3.5   1.75  5.05  3.55   \n",
       "\n",
       "    BWH  IWA  ...  away_chanceCreationShootingClass_Lots  \\\n",
       "0  2.95  2.2  ...                                      0   \n",
       "1  3.10  2.2  ...                                      0   \n",
       "2  1.35  7.0  ...                                      0   \n",
       "3  4.70  1.7  ...                                      0   \n",
       "4  1.60  4.2  ...                                      0   \n",
       "\n",
       "   away_chanceCreationShootingClass_Normal  \\\n",
       "0                                        1   \n",
       "1                                        1   \n",
       "2                                        1   \n",
       "3                                        1   \n",
       "4                                        1   \n",
       "\n",
       "   away_chanceCreationPositioningClass_Organised  \\\n",
       "0                                              1   \n",
       "1                                              1   \n",
       "2                                              1   \n",
       "3                                              1   \n",
       "4                                              1   \n",
       "\n",
       "   away_defencePressureClass_High  away_defencePressureClass_Medium  \\\n",
       "0                               1                                 0   \n",
       "1                               0                                 1   \n",
       "2                               1                                 0   \n",
       "3                               1                                 0   \n",
       "4                               0                                 1   \n",
       "\n",
       "   away_defenceAggressionClass_Double  away_defenceAggressionClass_Press  \\\n",
       "0                                   0                                  1   \n",
       "1                                   1                                  0   \n",
       "2                                   0                                  1   \n",
       "3                                   0                                  1   \n",
       "4                                   1                                  0   \n",
       "\n",
       "   away_defenceTeamWidthClass_Normal  away_defenceTeamWidthClass_Wide  \\\n",
       "0                                  0                                1   \n",
       "1                                  0                                1   \n",
       "2                                  0                                1   \n",
       "3                                  0                                1   \n",
       "4                                  0                                1   \n",
       "\n",
       "   away_defenceDefenderLineClass_Offside Trap  \n",
       "0                                           0  \n",
       "1                                           0  \n",
       "2                                           0  \n",
       "3                                           0  \n",
       "4                                           0  \n",
       "\n",
       "[5 rows x 599 columns]"
      ]
     },
     "execution_count": 112,
     "metadata": {},
     "output_type": "execute_result"
    }
   ],
   "source": [
    "# Inspect the first five rows.\n",
    "df.head()"
   ]
  },
  {
   "cell_type": "code",
   "execution_count": 113,
   "metadata": {
    "scrolled": true
   },
   "outputs": [
    {
     "data": {
      "text/plain": [
       "2    0.459557\n",
       "0    0.288081\n",
       "1    0.252362\n",
       "Name: result, dtype: float64"
      ]
     },
     "execution_count": 113,
     "metadata": {},
     "output_type": "execute_result"
    }
   ],
   "source": [
    "# Check the distribution of our 'result'\n",
    "df['result'].value_counts(normalize=True)"
   ]
  },
  {
   "cell_type": "markdown",
   "metadata": {},
   "source": [
    "##### Majority Class Baseline = 45.91%\n",
    "\n",
    "# Logistic Regression: Multiclass Classification\n",
    "\n",
    "I dropped home and away goals as they were used to define the target vector, \"results\", which is the outcome of each match. Possible outcomes are \"Win\", \"Draw\", or \"Loss\". Thus, we have three classes that we are trying to predict from our features."
   ]
  },
  {
   "cell_type": "code",
   "execution_count": 114,
   "metadata": {},
   "outputs": [],
   "source": [
    "results = df[['result']]\n",
    "df = df.drop(columns=['result', 'home_team_goal', 'away_team_goal'])"
   ]
  },
  {
   "cell_type": "code",
   "execution_count": 115,
   "metadata": {},
   "outputs": [
    {
     "data": {
      "text/plain": [
       "(19373, 596)"
      ]
     },
     "execution_count": 115,
     "metadata": {},
     "output_type": "execute_result"
    }
   ],
   "source": [
    "df.shape"
   ]
  },
  {
   "cell_type": "code",
   "execution_count": 112,
   "metadata": {},
   "outputs": [],
   "source": [
    "# Set up X and y.\n",
    "X = df\n",
    "y = results['result']\n",
    "\n",
    "# train/test split.\n",
    "X_train, X_test, y_train, y_test = train_test_split(X,\n",
    "                                                    y,\n",
    "                                                    test_size = 0.3,\n",
    "                                                    stratify=y,\n",
    "                                                    random_state = 42)\n",
    "\n",
    "# Instantiate Logistic Regression model\n",
    "lr = LogisticRegression(solver='lbfgs', multi_class = 'multinomial', max_iter = 4000)"
   ]
  },
  {
   "cell_type": "markdown",
   "metadata": {},
   "source": [
    "- Set the maximum iteration value to 2000 to avoid a convergence warning"
   ]
  },
  {
   "cell_type": "markdown",
   "metadata": {},
   "source": [
    "## Evaluate Cross-Validation Score before Fit"
   ]
  },
  {
   "cell_type": "code",
   "execution_count": 115,
   "metadata": {
    "scrolled": true
   },
   "outputs": [
    {
     "name": "stderr",
     "output_type": "stream",
     "text": [
      "C:\\Users\\joeda\\Anaconda3\\lib\\site-packages\\sklearn\\linear_model\\logistic.py:758: ConvergenceWarning: lbfgs failed to converge. Increase the number of iterations.\n",
      "  \"of iterations.\", ConvergenceWarning)\n",
      "C:\\Users\\joeda\\Anaconda3\\lib\\site-packages\\sklearn\\linear_model\\logistic.py:758: ConvergenceWarning: lbfgs failed to converge. Increase the number of iterations.\n",
      "  \"of iterations.\", ConvergenceWarning)\n",
      "C:\\Users\\joeda\\Anaconda3\\lib\\site-packages\\sklearn\\linear_model\\logistic.py:758: ConvergenceWarning: lbfgs failed to converge. Increase the number of iterations.\n",
      "  \"of iterations.\", ConvergenceWarning)\n",
      "C:\\Users\\joeda\\Anaconda3\\lib\\site-packages\\sklearn\\linear_model\\logistic.py:758: ConvergenceWarning: lbfgs failed to converge. Increase the number of iterations.\n",
      "  \"of iterations.\", ConvergenceWarning)\n"
     ]
    },
    {
     "name": "stdout",
     "output_type": "stream",
     "text": [
      "Train CV Score: 0.5215170282328675\n"
     ]
    },
    {
     "name": "stderr",
     "output_type": "stream",
     "text": [
      "C:\\Users\\joeda\\Anaconda3\\lib\\site-packages\\sklearn\\linear_model\\logistic.py:758: ConvergenceWarning: lbfgs failed to converge. Increase the number of iterations.\n",
      "  \"of iterations.\", ConvergenceWarning)\n"
     ]
    }
   ],
   "source": [
    "print('Train CV Score:', cross_val_score(lr, X_train, y_train, cv=5).mean())"
   ]
  },
  {
   "cell_type": "code",
   "execution_count": 114,
   "metadata": {
    "scrolled": true
   },
   "outputs": [
    {
     "name": "stderr",
     "output_type": "stream",
     "text": [
      "C:\\Users\\joeda\\Anaconda3\\lib\\site-packages\\sklearn\\linear_model\\logistic.py:758: ConvergenceWarning: lbfgs failed to converge. Increase the number of iterations.\n",
      "  \"of iterations.\", ConvergenceWarning)\n",
      "C:\\Users\\joeda\\Anaconda3\\lib\\site-packages\\sklearn\\linear_model\\logistic.py:758: ConvergenceWarning: lbfgs failed to converge. Increase the number of iterations.\n",
      "  \"of iterations.\", ConvergenceWarning)\n",
      "C:\\Users\\joeda\\Anaconda3\\lib\\site-packages\\sklearn\\linear_model\\logistic.py:758: ConvergenceWarning: lbfgs failed to converge. Increase the number of iterations.\n",
      "  \"of iterations.\", ConvergenceWarning)\n",
      "C:\\Users\\joeda\\Anaconda3\\lib\\site-packages\\sklearn\\linear_model\\logistic.py:758: ConvergenceWarning: lbfgs failed to converge. Increase the number of iterations.\n",
      "  \"of iterations.\", ConvergenceWarning)\n"
     ]
    },
    {
     "name": "stdout",
     "output_type": "stream",
     "text": [
      "Test CV Score: 0.5008637053345631\n"
     ]
    },
    {
     "name": "stderr",
     "output_type": "stream",
     "text": [
      "C:\\Users\\joeda\\Anaconda3\\lib\\site-packages\\sklearn\\linear_model\\logistic.py:758: ConvergenceWarning: lbfgs failed to converge. Increase the number of iterations.\n",
      "  \"of iterations.\", ConvergenceWarning)\n"
     ]
    }
   ],
   "source": [
    "print('Test CV Score:', cross_val_score(lr, X_test, y_test, cv=5).mean())"
   ]
  },
  {
   "cell_type": "code",
   "execution_count": 116,
   "metadata": {
    "scrolled": true
   },
   "outputs": [
    {
     "name": "stderr",
     "output_type": "stream",
     "text": [
      "C:\\Users\\joeda\\Anaconda3\\lib\\site-packages\\sklearn\\linear_model\\logistic.py:758: ConvergenceWarning: lbfgs failed to converge. Increase the number of iterations.\n",
      "  \"of iterations.\", ConvergenceWarning)\n"
     ]
    },
    {
     "data": {
      "text/plain": [
       "LogisticRegression(C=1.0, class_weight=None, dual=False, fit_intercept=True,\n",
       "          intercept_scaling=1, max_iter=4000, multi_class='multinomial',\n",
       "          n_jobs=None, penalty='l2', random_state=None, solver='lbfgs',\n",
       "          tol=0.0001, verbose=0, warm_start=False)"
      ]
     },
     "execution_count": 116,
     "metadata": {},
     "output_type": "execute_result"
    }
   ],
   "source": [
    "# Fit model.\n",
    "lr.fit(X_train, y_train)"
   ]
  },
  {
   "cell_type": "markdown",
   "metadata": {},
   "source": [
    "### Baseline Logistic Multiclass Score"
   ]
  },
  {
   "cell_type": "code",
   "execution_count": 117,
   "metadata": {
    "scrolled": true
   },
   "outputs": [
    {
     "name": "stdout",
     "output_type": "stream",
     "text": [
      "Logistic Acc. Score: 0.533816425120773\n"
     ]
    }
   ],
   "source": [
    "# Generate predictions and compare scores\n",
    "preds = lr.predict(X_test)\n",
    "print(\"Logistic Acc. Score:\", lr.score(X_test, y_test))"
   ]
  },
  {
   "cell_type": "markdown",
   "metadata": {},
   "source": [
    "**\\* Logistic Regression model outperformed the majority class distribution percentage. So, I will say the baseline is the logistic regression accuracy score of 53.38%**\n",
    "\n",
    "### New Baseline: 53.38%\n",
    "\n",
    "## Plotting the Logistic Probability Distributions of Each Class\n",
    "\n",
    "First, I looked at the true outome of each match, and compare that value with the probability that the model predicted. Then I looked at the model's predicted outcome and that associated probability."
   ]
  },
  {
   "cell_type": "code",
   "execution_count": 91,
   "metadata": {},
   "outputs": [
    {
     "data": {
      "text/html": [
       "<div>\n",
       "<style scoped>\n",
       "    .dataframe tbody tr th:only-of-type {\n",
       "        vertical-align: middle;\n",
       "    }\n",
       "\n",
       "    .dataframe tbody tr th {\n",
       "        vertical-align: top;\n",
       "    }\n",
       "\n",
       "    .dataframe thead th {\n",
       "        text-align: right;\n",
       "    }\n",
       "</style>\n",
       "<table border=\"1\" class=\"dataframe\">\n",
       "  <thead>\n",
       "    <tr style=\"text-align: right;\">\n",
       "      <th></th>\n",
       "      <th>true_values</th>\n",
       "      <th>pred_probs</th>\n",
       "      <th>model_preds</th>\n",
       "      <th>model_proba</th>\n",
       "    </tr>\n",
       "  </thead>\n",
       "  <tbody>\n",
       "    <tr>\n",
       "      <th>18199</th>\n",
       "      <td>0</td>\n",
       "      <td>0.846252</td>\n",
       "      <td>0</td>\n",
       "      <td>0.846252</td>\n",
       "    </tr>\n",
       "    <tr>\n",
       "      <th>9556</th>\n",
       "      <td>1</td>\n",
       "      <td>0.313354</td>\n",
       "      <td>2</td>\n",
       "      <td>0.390391</td>\n",
       "    </tr>\n",
       "    <tr>\n",
       "      <th>17663</th>\n",
       "      <td>1</td>\n",
       "      <td>0.187073</td>\n",
       "      <td>0</td>\n",
       "      <td>0.460879</td>\n",
       "    </tr>\n",
       "    <tr>\n",
       "      <th>9911</th>\n",
       "      <td>2</td>\n",
       "      <td>0.513659</td>\n",
       "      <td>2</td>\n",
       "      <td>0.513659</td>\n",
       "    </tr>\n",
       "    <tr>\n",
       "      <th>14106</th>\n",
       "      <td>1</td>\n",
       "      <td>0.144761</td>\n",
       "      <td>0</td>\n",
       "      <td>0.786644</td>\n",
       "    </tr>\n",
       "  </tbody>\n",
       "</table>\n",
       "</div>"
      ],
      "text/plain": [
       "       true_values  pred_probs  model_preds  model_proba\n",
       "18199            0    0.846252            0     0.846252\n",
       "9556             1    0.313354            2     0.390391\n",
       "17663            1    0.187073            0     0.460879\n",
       "9911             2    0.513659            2     0.513659\n",
       "14106            1    0.144761            0     0.786644"
      ]
     },
     "execution_count": 91,
     "metadata": {},
     "output_type": "execute_result"
    }
   ],
   "source": [
    "# Referenced stack overflow for code below\n",
    "# https://stackoverflow.com/questions/5469286/how-to-get-the-index-of-a-maximum-element-in-a-numpy-array-along-one-axis\n",
    "\n",
    "# What value the model predicts\n",
    "model_preds = [i.argmax(axis=0) for i in lr.predict_proba(X_test)]\n",
    "\n",
    "# Model predicted value probability\n",
    "model_proba = [i.max() for i in lr.predict_proba(X_test)]\n",
    "\n",
    "# Model predicted probability of the true value\n",
    "prob_list = []\n",
    "for index, probability in enumerate(lr.predict_proba(X_test)):\n",
    "    prob_list.append(probability[y_test.values[index]])\n",
    "pred_proba = prob_list\n",
    "\n",
    "# Create the predicted probabilities dataframe\n",
    "pred_df = pd.DataFrame({'true_values': y_test,\n",
    "                        'pred_probs':pred_proba,\n",
    "                        'model_preds': model_preds,\n",
    "                        'model_proba': model_proba\n",
    "                        })\n",
    "pred_df.head()"
   ]
  },
  {
   "cell_type": "markdown",
   "metadata": {},
   "source": [
    "### Creating the Figure"
   ]
  },
  {
   "cell_type": "code",
   "execution_count": 94,
   "metadata": {
    "scrolled": false
   },
   "outputs": [
    {
     "data": {
      "image/png": "[encoded data removed]",
      "text/plain": [
       "<Figure size 864x576 with 1 Axes>"
      ]
     },
     "metadata": {
      "needs_background": "light"
     },
     "output_type": "display_data"
    }
   ],
   "source": [
    "# Create figure.\n",
    "plt.figure(figsize = (12,8))\n",
    "\n",
    "# Create two histograms of observations.\n",
    "plt.hist(pred_df[pred_df['true_values'] == 2]['pred_probs'],\n",
    "         bins=25,\n",
    "         color='g',\n",
    "         alpha = 0.4,\n",
    "         label='Predicted Win')\n",
    "\n",
    "plt.hist(pred_df[pred_df['true_values'] == 0]['pred_probs'],\n",
    "         bins=25,\n",
    "         color='r',\n",
    "         alpha = 0.5,\n",
    "         label='Predicted Loss')\n",
    "\n",
    "plt.hist(pred_df[pred_df['true_values'] == 1]['pred_probs'],\n",
    "         bins=25,\n",
    "         color='orange',\n",
    "         alpha = 0.6,\n",
    "         label='Predicted Draw')\n",
    "\n",
    "# Add vertical line at baseline distribution percentage for each class from dataset.\n",
    "plt.vlines(x=0.459057,\n",
    "           ymin = 0,\n",
    "           ymax = 255,\n",
    "           color='b',\n",
    "           linestyle = '--',\n",
    "          label= 'Win Baseline')\n",
    "\n",
    "plt.vlines(x=0.287841,\n",
    "           ymin = 0,\n",
    "           ymax = 255,\n",
    "           color='k',\n",
    "           linestyle = '--',\n",
    "          label = 'Loss Baseline')\n",
    "\n",
    "plt.vlines(x=0.253102,\n",
    "           ymin = 0,\n",
    "           ymax = 255,\n",
    "           color='purple',\n",
    "           linestyle = '--',\n",
    "          label= 'Draw Baseline')\n",
    "\n",
    "# Label axes.\n",
    "plt.title('Logistic Probability Distribution of Match Results', fontsize=20)\n",
    "plt.ylabel('Frequency', fontsize=18)\n",
    "plt.xlabel('Predicted Probability of Result', fontsize=18)\n",
    "\n",
    "# Create legend.\n",
    "plt.legend(fontsize=16);"
   ]
  },
  {
   "cell_type": "markdown",
   "metadata": {},
   "source": [
    "# Random Forest Classification\n",
    "\n",
    "I attempted a Decision Tree Classification model as well. However, the Random Forrest Classification model provided better results."
   ]
  },
  {
   "cell_type": "code",
   "execution_count": 95,
   "metadata": {},
   "outputs": [],
   "source": [
    "# Set up X and y.\n",
    "X = df\n",
    "y = results['result']\n",
    "\n",
    "# train/test split.\n",
    "X_train, X_test, y_train, y_test = train_test_split(X,\n",
    "                                                    y,\n",
    "                                                    test_size = 0.3,\n",
    "                                                    stratify=y,\n",
    "                                                    random_state = 42)"
   ]
  },
  {
   "cell_type": "code",
   "execution_count": 96,
   "metadata": {},
   "outputs": [],
   "source": [
    "# Baseline Random Forest Model\n",
    "rf = RandomForestClassifier(n_estimators= 25)\n",
    "prefit_CV = cross_val_score(rf, X_train, y_train, cv=5).mean()"
   ]
  },
  {
   "cell_type": "code",
   "execution_count": 98,
   "metadata": {
    "scrolled": false
   },
   "outputs": [
    {
     "name": "stdout",
     "output_type": "stream",
     "text": [
      "0.532608695652174\n"
     ]
    },
    {
     "data": {
      "text/plain": [
       "{'max_depth': 7,\n",
       " 'max_features': 'auto',\n",
       " 'min_samples_split': 2,\n",
       " 'n_estimators': 30}"
      ]
     },
     "execution_count": 98,
     "metadata": {},
     "output_type": "execute_result"
    }
   ],
   "source": [
    "# Improved Random Forest Grid Search Model\n",
    "rf = RandomForestClassifier(random_state= 42)\n",
    "rf_params = {\n",
    "    'n_estimators': [30, 40],\n",
    "    'max_depth': [5, 6, 7, 8],\n",
    "    'max_features': ['auto', 4, 5, 6,],\n",
    "    'min_samples_split': [2, 3, 4, 5, 6]\n",
    "}\n",
    "gs = GridSearchCV(rf, param_grid=rf_params, cv=5)\n",
    "gs.fit(X_train, y_train)\n",
    "print(gs.best_score_) # Best cross val score\n",
    "gs.best_params_    # Best parameter combination"
   ]
  },
  {
   "cell_type": "code",
   "execution_count": 99,
   "metadata": {},
   "outputs": [
    {
     "name": "stdout",
     "output_type": "stream",
     "text": [
      "Pre-fit RF 5-fold CV-Score: 0.5005914158331057\n"
     ]
    }
   ],
   "source": [
    "print(f'Pre-fit RF 5-fold CV-Score: {prefit_CV}')"
   ]
  },
  {
   "cell_type": "markdown",
   "metadata": {},
   "source": [
    "## Evaluate Cross-Validation Score before Fit"
   ]
  },
  {
   "cell_type": "code",
   "execution_count": 100,
   "metadata": {
    "scrolled": true
   },
   "outputs": [
    {
     "name": "stdout",
     "output_type": "stream",
     "text": [
      "Pre-fit RF 5-fold CV-Score: 0.5005914158331057\n",
      "RF Train Score = 0.5433303756285123\n",
      "RF Test Score = 0.5379572118702554\n"
     ]
    }
   ],
   "source": [
    "print(f'Pre-fit RF 5-fold CV-Score: {prefit_CV}')\n",
    "print(f'RF Train Score = {gs.score(X_train, y_train)}')\n",
    "print(f'RF Test Score = {gs.score(X_test, y_test)}')"
   ]
  },
  {
   "cell_type": "markdown",
   "metadata": {},
   "source": [
    "Using Grid Search accross the Random Forest Hyperparameters produced the best results. This improved the base Random Forest accuracy score 3.73%, from 50.06% to 53.79%.\n",
    "\n",
    "## Generate Predictions"
   ]
  },
  {
   "cell_type": "code",
   "execution_count": 101,
   "metadata": {
    "scrolled": true
   },
   "outputs": [
    {
     "name": "stdout",
     "output_type": "stream",
     "text": [
      "Random Forest Acc. Score: 0.5379572118702554\n"
     ]
    }
   ],
   "source": [
    "# Generate predictions and compare scores\n",
    "preds = gs.predict(X_test)\n",
    "print(\"Random Forest Acc. Score:\", gs.score(X_test, y_test))"
   ]
  },
  {
   "cell_type": "markdown",
   "metadata": {},
   "source": [
    "## Plotting the Probability Distributions of Each Class"
   ]
  },
  {
   "cell_type": "markdown",
   "metadata": {},
   "source": [
    "Same process as above."
   ]
  },
  {
   "cell_type": "code",
   "execution_count": 102,
   "metadata": {
    "scrolled": true
   },
   "outputs": [
    {
     "data": {
      "text/html": [
       "<div>\n",
       "<style scoped>\n",
       "    .dataframe tbody tr th:only-of-type {\n",
       "        vertical-align: middle;\n",
       "    }\n",
       "\n",
       "    .dataframe tbody tr th {\n",
       "        vertical-align: top;\n",
       "    }\n",
       "\n",
       "    .dataframe thead th {\n",
       "        text-align: right;\n",
       "    }\n",
       "</style>\n",
       "<table border=\"1\" class=\"dataframe\">\n",
       "  <thead>\n",
       "    <tr style=\"text-align: right;\">\n",
       "      <th></th>\n",
       "      <th>true_values</th>\n",
       "      <th>pred_probs</th>\n",
       "      <th>model_preds</th>\n",
       "      <th>model_proba</th>\n",
       "    </tr>\n",
       "  </thead>\n",
       "  <tbody>\n",
       "    <tr>\n",
       "      <th>18199</th>\n",
       "      <td>0</td>\n",
       "      <td>0.798018</td>\n",
       "      <td>0</td>\n",
       "      <td>0.798018</td>\n",
       "    </tr>\n",
       "    <tr>\n",
       "      <th>9556</th>\n",
       "      <td>1</td>\n",
       "      <td>0.322372</td>\n",
       "      <td>2</td>\n",
       "      <td>0.423191</td>\n",
       "    </tr>\n",
       "    <tr>\n",
       "      <th>17663</th>\n",
       "      <td>1</td>\n",
       "      <td>0.291662</td>\n",
       "      <td>0</td>\n",
       "      <td>0.365524</td>\n",
       "    </tr>\n",
       "    <tr>\n",
       "      <th>9911</th>\n",
       "      <td>2</td>\n",
       "      <td>0.553755</td>\n",
       "      <td>2</td>\n",
       "      <td>0.553755</td>\n",
       "    </tr>\n",
       "    <tr>\n",
       "      <th>14106</th>\n",
       "      <td>1</td>\n",
       "      <td>0.159060</td>\n",
       "      <td>0</td>\n",
       "      <td>0.662876</td>\n",
       "    </tr>\n",
       "  </tbody>\n",
       "</table>\n",
       "</div>"
      ],
      "text/plain": [
       "       true_values  pred_probs  model_preds  model_proba\n",
       "18199            0    0.798018            0     0.798018\n",
       "9556             1    0.322372            2     0.423191\n",
       "17663            1    0.291662            0     0.365524\n",
       "9911             2    0.553755            2     0.553755\n",
       "14106            1    0.159060            0     0.662876"
      ]
     },
     "execution_count": 102,
     "metadata": {},
     "output_type": "execute_result"
    }
   ],
   "source": [
    "# Referenced stack overflow for code below\n",
    "# https://stackoverflow.com/questions/5469286/how-to-get-the-index-of-a-maximum-element-in-a-numpy-array-along-one-axis\n",
    "\n",
    "# What value the model predicts\n",
    "model_preds = [i.argmax(axis=0) for i in gs.predict_proba(X_test)]\n",
    "\n",
    "# Model predicted value probability\n",
    "model_proba = [i.max() for i in gs.predict_proba(X_test)]\n",
    "\n",
    "# Model predicted probability of the true value\n",
    "prob_list = []\n",
    "for index, probability in enumerate(gs.predict_proba(X_test)):\n",
    "    prob_list.append(probability[y_test.values[index]])\n",
    "pred_proba = prob_list\n",
    "\n",
    "pred_df = pd.DataFrame({'true_values': y_test,\n",
    "                        'pred_probs':pred_proba,\n",
    "                        'model_preds': model_preds,\n",
    "                        'model_proba': model_proba\n",
    "                        })\n",
    "pred_df.head()"
   ]
  },
  {
   "cell_type": "markdown",
   "metadata": {},
   "source": [
    "## Creating the Figure"
   ]
  },
  {
   "cell_type": "code",
   "execution_count": 104,
   "metadata": {
    "scrolled": false
   },
   "outputs": [
    {
     "data": {
      "image/png": "[encoded data removed]",
      "text/plain": [
       "<Figure size 864x576 with 1 Axes>"
      ]
     },
     "metadata": {
      "needs_background": "light"
     },
     "output_type": "display_data"
    }
   ],
   "source": [
    "# Create figure.\n",
    "plt.figure(figsize = (12,8))\n",
    "\n",
    "# Create three histograms of observations.\n",
    "plt.hist(pred_df[pred_df['true_values'] == 2]['pred_probs'],\n",
    "         bins=25,\n",
    "         color='g',\n",
    "         alpha = 0.4,\n",
    "         label='Predicted Win')\n",
    "\n",
    "plt.hist(pred_df[pred_df['true_values'] == 0]['pred_probs'],\n",
    "         bins=25,\n",
    "         color='r',\n",
    "         alpha = 0.5,\n",
    "         label='Predicted Loss')\n",
    "\n",
    "plt.hist(pred_df[pred_df['true_values'] == 1]['pred_probs'],\n",
    "         bins=25,\n",
    "         color='orange',\n",
    "         alpha = 0.6,\n",
    "         label='Predicted Draw')\n",
    "\n",
    "# Add vertical line at baseline distributions from dataset.\n",
    "plt.vlines(x=0.455732,\n",
    "           ymin = 0,\n",
    "           ymax = 330,\n",
    "           color='b',\n",
    "           linestyle = '--',\n",
    "          label= 'Win Baseline')\n",
    "\n",
    "plt.vlines(x=0.2843,\n",
    "           ymin = 0,\n",
    "           ymax = 330,\n",
    "           color='k',\n",
    "           linestyle = '--',\n",
    "          label = 'Loss Baseline')\n",
    "\n",
    "plt.vlines(x=0.2599,\n",
    "           ymin = 0,\n",
    "           ymax = 330,\n",
    "           color='purple',\n",
    "           linestyle = '--',\n",
    "          label= 'Draw Baseline')\n",
    "\n",
    "# Label axes.\n",
    "plt.title('Random Forest Probability Distribution of Match Results', fontsize=20)\n",
    "plt.ylabel('Frequency', fontsize=18)\n",
    "plt.xlabel('Predicted Probability of Result', fontsize=18)\n",
    "\n",
    "# Set X axis range\n",
    "plt.xlim(0,1)\n",
    "\n",
    "# Create legend.\n",
    "plt.legend(fontsize=16);"
   ]
  },
  {
   "cell_type": "code",
   "execution_count": null,
   "metadata": {},
   "outputs": [],
   "source": []
  }
 ],
 "metadata": {
  "kernelspec": {
   "display_name": "Python 3",
   "language": "python",
   "name": "python3"
  },
  "language_info": {
   "codemirror_mode": {
    "name": "ipython",
    "version": 3
   },
   "file_extension": ".py",
   "mimetype": "text/x-python",
   "name": "python",
   "nbconvert_exporter": "python",
   "pygments_lexer": "ipython3",
   "version": "3.7.3"
  }
 },
 "nbformat": 4,
 "nbformat_minor": 2
}
