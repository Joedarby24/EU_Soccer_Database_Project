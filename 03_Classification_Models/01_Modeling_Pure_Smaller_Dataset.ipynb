{
 "cells": [
  {
   "cell_type": "markdown",
   "metadata": {},
   "source": [
    "<img src=\"https://i.imgur.com/Y6EMKKg.jpg\" style=\"float: left; margin: 15px;\" width=\"75\">\n",
    "\n",
    "## Modelling Pure Dataframe: Less Observations\n",
    "\n",
    "Joseph Darby\n",
    "\n",
    "---"
   ]
  },
  {
   "cell_type": "markdown",
   "metadata": {},
   "source": [
    "## Import Libraries"
   ]
  },
  {
   "cell_type": "code",
   "execution_count": 106,
   "metadata": {},
   "outputs": [],
   "source": [
    "import numpy as np\n",
    "import pandas as pd\n",
    "import matplotlib.pyplot as plt\n",
    "from sklearn.ensemble import RandomForestClassifier\n",
    "from sklearn.linear_model import LogisticRegression \n",
    "from sklearn.model_selection import train_test_split, cross_val_score, GridSearchCV\n",
    "from sklearn.metrics import classification_report\n",
    "from sklearn.metrics import accuracy_score, precision_score, f1_score, recall_score\n",
    "from sklearn.tree import DecisionTreeClassifier\n",
    "\n",
    "%matplotlib inline"
   ]
  },
  {
   "cell_type": "markdown",
   "metadata": {},
   "source": [
    "## Load Dataset"
   ]
  },
  {
   "cell_type": "markdown",
   "metadata": {},
   "source": [
    "The dataset that I will be working with in this notebook is the comprehensive dataframe with all math observations with null values removed. The amount of match observations significantly dropped, from roughly 25,000 to 1762 observations"
   ]
  },
  {
   "cell_type": "code",
   "execution_count": 107,
   "metadata": {},
   "outputs": [],
   "source": [
    "# Read in data.\n",
    "df = pd.read_csv('../01_Data_Cleaning/datasets_database/no_nulls_df.csv')\n",
    "df['result'] = df['match_result'].map({'L' : 0, 'D': 1, 'W': 2})\n",
    "df = df.drop(columns=['Unnamed: 0', 'match_result', 'country_id'])"
   ]
  },
  {
   "cell_type": "code",
   "execution_count": 108,
   "metadata": {
    "scrolled": true
   },
   "outputs": [
    {
     "data": {
      "text/html": [
       "<div>\n",
       "<style scoped>\n",
       "    .dataframe tbody tr th:only-of-type {\n",
       "        vertical-align: middle;\n",
       "    }\n",
       "\n",
       "    .dataframe tbody tr th {\n",
       "        vertical-align: top;\n",
       "    }\n",
       "\n",
       "    .dataframe thead th {\n",
       "        text-align: right;\n",
       "    }\n",
       "</style>\n",
       "<table border=\"1\" class=\"dataframe\">\n",
       "  <thead>\n",
       "    <tr style=\"text-align: right;\">\n",
       "      <th></th>\n",
       "      <th>league_id</th>\n",
       "      <th>stage</th>\n",
       "      <th>match_api_id</th>\n",
       "      <th>home_team_api_id</th>\n",
       "      <th>away_team_api_id</th>\n",
       "      <th>home_team_goal</th>\n",
       "      <th>away_team_goal</th>\n",
       "      <th>home_player_X1</th>\n",
       "      <th>home_player_X2</th>\n",
       "      <th>home_player_X3</th>\n",
       "      <th>...</th>\n",
       "      <th>away_team_Udinese</th>\n",
       "      <th>away_team_Valencia CF</th>\n",
       "      <th>away_team_Valenciennes FC</th>\n",
       "      <th>away_team_VfB Stuttgart</th>\n",
       "      <th>away_team_VfL Wolfsburg</th>\n",
       "      <th>away_team_West Bromwich Albion</th>\n",
       "      <th>away_team_West Ham United</th>\n",
       "      <th>away_team_Wigan Athletic</th>\n",
       "      <th>away_team_Évian Thonon Gaillard FC</th>\n",
       "      <th>result</th>\n",
       "    </tr>\n",
       "  </thead>\n",
       "  <tbody>\n",
       "    <tr>\n",
       "      <th>0</th>\n",
       "      <td>1729</td>\n",
       "      <td>1</td>\n",
       "      <td>1228229</td>\n",
       "      <td>9825</td>\n",
       "      <td>8472</td>\n",
       "      <td>0</td>\n",
       "      <td>0</td>\n",
       "      <td>1.0</td>\n",
       "      <td>2.0</td>\n",
       "      <td>4.0</td>\n",
       "      <td>...</td>\n",
       "      <td>0</td>\n",
       "      <td>0</td>\n",
       "      <td>0</td>\n",
       "      <td>0</td>\n",
       "      <td>0</td>\n",
       "      <td>0</td>\n",
       "      <td>0</td>\n",
       "      <td>0</td>\n",
       "      <td>0</td>\n",
       "      <td>1</td>\n",
       "    </tr>\n",
       "    <tr>\n",
       "      <th>1</th>\n",
       "      <td>1729</td>\n",
       "      <td>1</td>\n",
       "      <td>1228230</td>\n",
       "      <td>8668</td>\n",
       "      <td>10260</td>\n",
       "      <td>1</td>\n",
       "      <td>0</td>\n",
       "      <td>1.0</td>\n",
       "      <td>2.0</td>\n",
       "      <td>4.0</td>\n",
       "      <td>...</td>\n",
       "      <td>0</td>\n",
       "      <td>0</td>\n",
       "      <td>0</td>\n",
       "      <td>0</td>\n",
       "      <td>0</td>\n",
       "      <td>0</td>\n",
       "      <td>0</td>\n",
       "      <td>0</td>\n",
       "      <td>0</td>\n",
       "      <td>2</td>\n",
       "    </tr>\n",
       "    <tr>\n",
       "      <th>2</th>\n",
       "      <td>1729</td>\n",
       "      <td>1</td>\n",
       "      <td>1228231</td>\n",
       "      <td>9879</td>\n",
       "      <td>9850</td>\n",
       "      <td>5</td>\n",
       "      <td>0</td>\n",
       "      <td>1.0</td>\n",
       "      <td>2.0</td>\n",
       "      <td>4.0</td>\n",
       "      <td>...</td>\n",
       "      <td>0</td>\n",
       "      <td>0</td>\n",
       "      <td>0</td>\n",
       "      <td>0</td>\n",
       "      <td>0</td>\n",
       "      <td>0</td>\n",
       "      <td>0</td>\n",
       "      <td>0</td>\n",
       "      <td>0</td>\n",
       "      <td>2</td>\n",
       "    </tr>\n",
       "    <tr>\n",
       "      <th>3</th>\n",
       "      <td>1729</td>\n",
       "      <td>1</td>\n",
       "      <td>1228232</td>\n",
       "      <td>8456</td>\n",
       "      <td>8466</td>\n",
       "      <td>3</td>\n",
       "      <td>2</td>\n",
       "      <td>1.0</td>\n",
       "      <td>2.0</td>\n",
       "      <td>4.0</td>\n",
       "      <td>...</td>\n",
       "      <td>0</td>\n",
       "      <td>0</td>\n",
       "      <td>0</td>\n",
       "      <td>0</td>\n",
       "      <td>0</td>\n",
       "      <td>0</td>\n",
       "      <td>0</td>\n",
       "      <td>0</td>\n",
       "      <td>0</td>\n",
       "      <td>2</td>\n",
       "    </tr>\n",
       "    <tr>\n",
       "      <th>4</th>\n",
       "      <td>1729</td>\n",
       "      <td>1</td>\n",
       "      <td>1228233</td>\n",
       "      <td>10261</td>\n",
       "      <td>8586</td>\n",
       "      <td>2</td>\n",
       "      <td>1</td>\n",
       "      <td>1.0</td>\n",
       "      <td>2.0</td>\n",
       "      <td>4.0</td>\n",
       "      <td>...</td>\n",
       "      <td>0</td>\n",
       "      <td>0</td>\n",
       "      <td>0</td>\n",
       "      <td>0</td>\n",
       "      <td>0</td>\n",
       "      <td>0</td>\n",
       "      <td>0</td>\n",
       "      <td>0</td>\n",
       "      <td>0</td>\n",
       "      <td>2</td>\n",
       "    </tr>\n",
       "  </tbody>\n",
       "</table>\n",
       "<p>5 rows × 311 columns</p>\n",
       "</div>"
      ],
      "text/plain": [
       "   league_id  stage  match_api_id  home_team_api_id  away_team_api_id  \\\n",
       "0       1729      1       1228229              9825              8472   \n",
       "1       1729      1       1228230              8668             10260   \n",
       "2       1729      1       1228231              9879              9850   \n",
       "3       1729      1       1228232              8456              8466   \n",
       "4       1729      1       1228233             10261              8586   \n",
       "\n",
       "   home_team_goal  away_team_goal  home_player_X1  home_player_X2  \\\n",
       "0               0               0             1.0             2.0   \n",
       "1               1               0             1.0             2.0   \n",
       "2               5               0             1.0             2.0   \n",
       "3               3               2             1.0             2.0   \n",
       "4               2               1             1.0             2.0   \n",
       "\n",
       "   home_player_X3  ...  away_team_Udinese  away_team_Valencia CF  \\\n",
       "0             4.0  ...                  0                      0   \n",
       "1             4.0  ...                  0                      0   \n",
       "2             4.0  ...                  0                      0   \n",
       "3             4.0  ...                  0                      0   \n",
       "4             4.0  ...                  0                      0   \n",
       "\n",
       "   away_team_Valenciennes FC  away_team_VfB Stuttgart  \\\n",
       "0                          0                        0   \n",
       "1                          0                        0   \n",
       "2                          0                        0   \n",
       "3                          0                        0   \n",
       "4                          0                        0   \n",
       "\n",
       "   away_team_VfL Wolfsburg  away_team_West Bromwich Albion  \\\n",
       "0                        0                               0   \n",
       "1                        0                               0   \n",
       "2                        0                               0   \n",
       "3                        0                               0   \n",
       "4                        0                               0   \n",
       "\n",
       "   away_team_West Ham United  away_team_Wigan Athletic  \\\n",
       "0                          0                         0   \n",
       "1                          0                         0   \n",
       "2                          0                         0   \n",
       "3                          0                         0   \n",
       "4                          0                         0   \n",
       "\n",
       "   away_team_Évian Thonon Gaillard FC  result  \n",
       "0                                   0       1  \n",
       "1                                   0       2  \n",
       "2                                   0       2  \n",
       "3                                   0       2  \n",
       "4                                   0       2  \n",
       "\n",
       "[5 rows x 311 columns]"
      ]
     },
     "execution_count": 108,
     "metadata": {},
     "output_type": "execute_result"
    }
   ],
   "source": [
    "# Inspect the first five rows.\n",
    "df.head()"
   ]
  },
  {
   "cell_type": "code",
   "execution_count": 109,
   "metadata": {},
   "outputs": [
    {
     "data": {
      "text/plain": [
       "(1762, 311)"
      ]
     },
     "execution_count": 109,
     "metadata": {},
     "output_type": "execute_result"
    }
   ],
   "source": [
    "df.shape"
   ]
  },
  {
   "cell_type": "code",
   "execution_count": 110,
   "metadata": {
    "scrolled": true
   },
   "outputs": [
    {
     "data": {
      "text/plain": [
       "2    0.455732\n",
       "0    0.284336\n",
       "1    0.259932\n",
       "Name: result, dtype: float64"
      ]
     },
     "execution_count": 110,
     "metadata": {},
     "output_type": "execute_result"
    }
   ],
   "source": [
    "# Check the distribution of our 'result'\n",
    "df['result'].value_counts(normalize=True)"
   ]
  },
  {
   "cell_type": "markdown",
   "metadata": {},
   "source": [
    "### Majority Class Baseline = 45.57%"
   ]
  },
  {
   "cell_type": "markdown",
   "metadata": {},
   "source": [
    "# Logistic Regression: Multiclass Classification"
   ]
  },
  {
   "cell_type": "markdown",
   "metadata": {},
   "source": [
    "I dropped home and away goals as they were used to define the target vector, \"results\", which is the outcome of each match. Possible outcomes are \"Win\", \"Draw\", or \"Loss\". Thus, we have three classes that we are trying to predict from our features."
   ]
  },
  {
   "cell_type": "code",
   "execution_count": 111,
   "metadata": {},
   "outputs": [],
   "source": [
    "# Set up X and y.\n",
    "X = df.drop(columns=['result', 'home_team_goal', 'away_team_goal'])\n",
    "y = df['result']\n",
    "\n",
    "# train/test split.\n",
    "X_train, X_test, y_train, y_test = train_test_split(X,\n",
    "                                                    y,\n",
    "                                                    test_size = 0.3,\n",
    "                                                    stratify=y,\n",
    "                                                    random_state = 42)\n",
    "\n",
    "# Instantiate Logistic Regression model\n",
    "lr = LogisticRegression(solver='lbfgs', multi_class = 'multinomial', max_iter = 1000)"
   ]
  },
  {
   "cell_type": "markdown",
   "metadata": {},
   "source": [
    "- Set the maximum iteration value to 1000 to avoid a convergence warning"
   ]
  },
  {
   "cell_type": "markdown",
   "metadata": {},
   "source": [
    "## Evaluate Logistic Cross-Validation Score before Fit"
   ]
  },
  {
   "cell_type": "code",
   "execution_count": 112,
   "metadata": {
    "scrolled": true
   },
   "outputs": [
    {
     "name": "stdout",
     "output_type": "stream",
     "text": [
      "Train CV Score: 0.44610086312434233\n",
      "Test CV Score: 0.43288191383060015\n"
     ]
    }
   ],
   "source": [
    "print('Train CV Score:', cross_val_score(lr, X_train, y_train, cv=5).mean())\n",
    "print('Test CV Score:', cross_val_score(lr, X_test, y_test, cv=5).mean())"
   ]
  },
  {
   "cell_type": "code",
   "execution_count": 113,
   "metadata": {
    "scrolled": true
   },
   "outputs": [
    {
     "data": {
      "text/plain": [
       "LogisticRegression(C=1.0, class_weight=None, dual=False, fit_intercept=True,\n",
       "          intercept_scaling=1, max_iter=1000, multi_class='multinomial',\n",
       "          n_jobs=None, penalty='l2', random_state=None, solver='lbfgs',\n",
       "          tol=0.0001, verbose=0, warm_start=False)"
      ]
     },
     "execution_count": 113,
     "metadata": {},
     "output_type": "execute_result"
    }
   ],
   "source": [
    "# Fit model.\n",
    "lr.fit(X_train, y_train)"
   ]
  },
  {
   "cell_type": "markdown",
   "metadata": {},
   "source": [
    "### Baseline Logistic Multiclass Score"
   ]
  },
  {
   "cell_type": "code",
   "execution_count": 114,
   "metadata": {
    "scrolled": true
   },
   "outputs": [
    {
     "name": "stdout",
     "output_type": "stream",
     "text": [
      "Logistic Acc. Score: 0.444234404536862\n"
     ]
    }
   ],
   "source": [
    "# Generate predictions and compare scores\n",
    "preds = lr.predict(X_test)\n",
    "print(\"Logistic Acc. Score:\", lr.score(X_test, y_test))"
   ]
  },
  {
   "cell_type": "markdown",
   "metadata": {},
   "source": [
    "**\\* Majority Class Distribution outperformed logistic regression. So, I will say the baseline is the majority class distribution percentage of 45.57%**"
   ]
  },
  {
   "cell_type": "markdown",
   "metadata": {},
   "source": [
    "### Plotting the Probability Distributions of Each Class"
   ]
  },
  {
   "cell_type": "markdown",
   "metadata": {},
   "source": [
    "First, I looked at the true outome of each match, and compare that value with the probability that the model predicted. Then I looked at the model's predicted outcome and that associated probability."
   ]
  },
  {
   "cell_type": "code",
   "execution_count": 115,
   "metadata": {},
   "outputs": [
    {
     "data": {
      "text/html": [
       "<div>\n",
       "<style scoped>\n",
       "    .dataframe tbody tr th:only-of-type {\n",
       "        vertical-align: middle;\n",
       "    }\n",
       "\n",
       "    .dataframe tbody tr th {\n",
       "        vertical-align: top;\n",
       "    }\n",
       "\n",
       "    .dataframe thead th {\n",
       "        text-align: right;\n",
       "    }\n",
       "</style>\n",
       "<table border=\"1\" class=\"dataframe\">\n",
       "  <thead>\n",
       "    <tr style=\"text-align: right;\">\n",
       "      <th></th>\n",
       "      <th>true_values</th>\n",
       "      <th>pred_probs</th>\n",
       "      <th>model_preds</th>\n",
       "      <th>model_proba</th>\n",
       "    </tr>\n",
       "  </thead>\n",
       "  <tbody>\n",
       "    <tr>\n",
       "      <th>1305</th>\n",
       "      <td>2</td>\n",
       "      <td>0.449876</td>\n",
       "      <td>2</td>\n",
       "      <td>0.449876</td>\n",
       "    </tr>\n",
       "    <tr>\n",
       "      <th>302</th>\n",
       "      <td>2</td>\n",
       "      <td>0.306967</td>\n",
       "      <td>1</td>\n",
       "      <td>0.399092</td>\n",
       "    </tr>\n",
       "    <tr>\n",
       "      <th>181</th>\n",
       "      <td>0</td>\n",
       "      <td>0.279558</td>\n",
       "      <td>2</td>\n",
       "      <td>0.453942</td>\n",
       "    </tr>\n",
       "    <tr>\n",
       "      <th>1700</th>\n",
       "      <td>1</td>\n",
       "      <td>0.224527</td>\n",
       "      <td>0</td>\n",
       "      <td>0.430904</td>\n",
       "    </tr>\n",
       "    <tr>\n",
       "      <th>124</th>\n",
       "      <td>0</td>\n",
       "      <td>0.236071</td>\n",
       "      <td>2</td>\n",
       "      <td>0.449106</td>\n",
       "    </tr>\n",
       "  </tbody>\n",
       "</table>\n",
       "</div>"
      ],
      "text/plain": [
       "      true_values  pred_probs  model_preds  model_proba\n",
       "1305            2    0.449876            2     0.449876\n",
       "302             2    0.306967            1     0.399092\n",
       "181             0    0.279558            2     0.453942\n",
       "1700            1    0.224527            0     0.430904\n",
       "124             0    0.236071            2     0.449106"
      ]
     },
     "execution_count": 115,
     "metadata": {},
     "output_type": "execute_result"
    }
   ],
   "source": [
    "# Referenced stack overflow for code below\n",
    "# https://stackoverflow.com/questions/5469286/how-to-get-the-index-of-a-maximum-element-in-a-numpy-array-along-one-axis\n",
    "\n",
    "# What value the model predicts\n",
    "model_preds = [i.argmax(axis=0) for i in lr.predict_proba(X_test)]\n",
    "\n",
    "# Model predicted value probability\n",
    "model_proba = [i.max() for i in lr.predict_proba(X_test)]\n",
    "\n",
    "# Model predicted probability of the true value\n",
    "prob_list = []\n",
    "for index, probability in enumerate(lr.predict_proba(X_test)):\n",
    "    prob_list.append(probability[y_test.values[index]])\n",
    "pred_proba = prob_list\n",
    "\n",
    "# Create the predicted probabilities dataframe\n",
    "pred_df = pd.DataFrame({'true_values': y_test,\n",
    "                        'pred_probs':pred_proba,\n",
    "                        'model_preds': model_preds,\n",
    "                        'model_proba': model_proba\n",
    "                        })\n",
    "pred_df.head()"
   ]
  },
  {
   "cell_type": "markdown",
   "metadata": {},
   "source": [
    "### Creating the Figure"
   ]
  },
  {
   "cell_type": "code",
   "execution_count": 116,
   "metadata": {
    "scrolled": false
   },
   "outputs": [
    {
     "data": {
      "image/png": "[encoded data removed]",
      "text/plain": [
       "<Figure size 864x576 with 1 Axes>"
      ]
     },
     "metadata": {
      "needs_background": "light"
     },
     "output_type": "display_data"
    }
   ],
   "source": [
    "# Create figure.\n",
    "plt.figure(figsize = (12,8))\n",
    "\n",
    "# Create two histograms of observations.\n",
    "plt.hist(pred_df[pred_df['true_values'] == 2]['pred_probs'],\n",
    "         bins=25,\n",
    "         color='g',\n",
    "         alpha = 0.4,\n",
    "         label='Predicted Win')\n",
    "plt.hist(pred_df[pred_df['true_values'] == 1]['pred_probs'],\n",
    "         bins=25,\n",
    "         color='orange',\n",
    "         alpha = 0.6,\n",
    "         label='Predicted Draw')\n",
    "plt.hist(pred_df[pred_df['true_values'] == 0]['pred_probs'],\n",
    "         bins=25,\n",
    "         color='r',\n",
    "         alpha = 0.5,\n",
    "         label='Predicted Loss')\n",
    "\n",
    "# Add vertical line at baseline distribution percentage for each class from dataset.\n",
    "plt.vlines(x=0.455732,\n",
    "           ymin = 0,\n",
    "           ymax = 31,\n",
    "           color='b',\n",
    "           linestyle = '--',\n",
    "          label= 'Win Baseline')\n",
    "\n",
    "plt.vlines(x=0.2843,\n",
    "           ymin = 0,\n",
    "           ymax = 31,\n",
    "           color='k',\n",
    "           linestyle = '--',\n",
    "          label = 'Loss Baseline')\n",
    "\n",
    "plt.vlines(x=0.2599,\n",
    "           ymin = 0,\n",
    "           ymax = 31,\n",
    "           color='purple',\n",
    "           linestyle = '--',\n",
    "          label= 'Draw Baseline')\n",
    "\n",
    "# Label axes.\n",
    "plt.title('Logistic Probability Distribution of Match Results', fontsize=20)\n",
    "plt.ylabel('Frequency', fontsize=18)\n",
    "plt.xlabel('Predicted Probability of Result', fontsize=18)\n",
    "\n",
    "# Set X range\n",
    "plt.xlim(0.05,0.9)\n",
    "\n",
    "# Create legend.\n",
    "plt.legend(fontsize=16);"
   ]
  },
  {
   "cell_type": "markdown",
   "metadata": {},
   "source": [
    "# Random Forest Classification"
   ]
  },
  {
   "cell_type": "markdown",
   "metadata": {},
   "source": [
    "I attempted a Decision Tree Classification model as well. However, the Random Forrest Classification model provided better results."
   ]
  },
  {
   "cell_type": "code",
   "execution_count": 94,
   "metadata": {},
   "outputs": [],
   "source": [
    "# Read in data.\n",
    "df = pd.read_csv('../01_Data_Cleaning/datasets_database/no_nulls_df.csv')\n",
    "df['result'] = df['match_result'].map({'L' : 0, 'D': 1, 'W': 2})\n",
    "df = df.drop(columns=['Unnamed: 0', 'match_result', 'country_id'])\n",
    "\n",
    "# Set up X and y.\n",
    "X = df.drop(columns=['result', 'home_team_goal', 'away_team_goal'])\n",
    "y = df['result']\n",
    "\n",
    "# train/test split.\n",
    "X_train, X_test, y_train, y_test = train_test_split(X,\n",
    "                                                    y,\n",
    "                                                    test_size = 0.3,\n",
    "                                                    stratify=y,\n",
    "                                                    random_state = 42)"
   ]
  },
  {
   "cell_type": "code",
   "execution_count": 95,
   "metadata": {},
   "outputs": [],
   "source": [
    "rf = RandomForestClassifier(n_estimators= 10)"
   ]
  },
  {
   "cell_type": "code",
   "execution_count": 96,
   "metadata": {},
   "outputs": [],
   "source": [
    "prefit_CV = cross_val_score(rf, X_train, y_train, cv=5).mean()"
   ]
  },
  {
   "cell_type": "code",
   "execution_count": 97,
   "metadata": {
    "scrolled": true
   },
   "outputs": [
    {
     "name": "stdout",
     "output_type": "stream",
     "text": [
      "0.5369018653690186\n"
     ]
    },
    {
     "data": {
      "text/plain": [
       "{'max_depth': 5, 'max_features': 6, 'min_samples_split': 4, 'n_estimators': 40}"
      ]
     },
     "execution_count": 97,
     "metadata": {},
     "output_type": "execute_result"
    }
   ],
   "source": [
    "rf = RandomForestClassifier(random_state= 42)\n",
    "rf_params = {\n",
    "    'n_estimators': [30, 40],\n",
    "    'max_depth': [2, 3, 4, 5],\n",
    "    'max_features': ['auto', 2, 3, 4, 5, 6,],\n",
    "    'min_samples_split': [2, 3, 4, 5, 6]\n",
    "}\n",
    "gs = GridSearchCV(rf, param_grid=rf_params, cv=5)\n",
    "gs.fit(X_train, y_train)\n",
    "print(gs.best_score_) # Best cross val score\n",
    "gs.best_params_    # Best parameter combination"
   ]
  },
  {
   "cell_type": "markdown",
   "metadata": {},
   "source": [
    "## Evaluate Random Forest Cross-Validation Score before Fit"
   ]
  },
  {
   "cell_type": "code",
   "execution_count": 98,
   "metadata": {
    "scrolled": true
   },
   "outputs": [
    {
     "name": "stdout",
     "output_type": "stream",
     "text": [
      "Pre-fit RF 5-fold CV-Score: 0.4809682356651176\n",
      "RF Train Score = 0.5539334955393349\n",
      "RF Test Score = 0.5330812854442344\n"
     ]
    }
   ],
   "source": [
    "print(f'Pre-fit RF 5-fold CV-Score: {prefit_CV}')\n",
    "print(f'RF Train Score = {gs.score(X_train, y_train)}')\n",
    "print(f'RF Test Score = {gs.score(X_test, y_test)}')"
   ]
  },
  {
   "cell_type": "markdown",
   "metadata": {},
   "source": [
    "Using Grid Search accross the Random Forest Hyperparameters produced the best results. This improved the base Random Forest accuracy score ~7%, from 46.32% to 53.31%."
   ]
  },
  {
   "cell_type": "markdown",
   "metadata": {},
   "source": [
    "## Generate Predictions"
   ]
  },
  {
   "cell_type": "code",
   "execution_count": 99,
   "metadata": {
    "scrolled": true
   },
   "outputs": [
    {
     "name": "stdout",
     "output_type": "stream",
     "text": [
      "Random Forest Acc. Score: 0.5330812854442344\n"
     ]
    }
   ],
   "source": [
    "# Generate predictions and compare scores\n",
    "preds = gs.predict(X_test)\n",
    "print(\"Random Forest Acc. Score:\", gs.score(X_test, y_test))"
   ]
  },
  {
   "cell_type": "markdown",
   "metadata": {},
   "source": [
    "## Plotting the Probability Distributions of Each Class"
   ]
  },
  {
   "cell_type": "markdown",
   "metadata": {},
   "source": [
    "Same process as above."
   ]
  },
  {
   "cell_type": "code",
   "execution_count": 100,
   "metadata": {
    "scrolled": true
   },
   "outputs": [
    {
     "data": {
      "text/html": [
       "<div>\n",
       "<style scoped>\n",
       "    .dataframe tbody tr th:only-of-type {\n",
       "        vertical-align: middle;\n",
       "    }\n",
       "\n",
       "    .dataframe tbody tr th {\n",
       "        vertical-align: top;\n",
       "    }\n",
       "\n",
       "    .dataframe thead th {\n",
       "        text-align: right;\n",
       "    }\n",
       "</style>\n",
       "<table border=\"1\" class=\"dataframe\">\n",
       "  <thead>\n",
       "    <tr style=\"text-align: right;\">\n",
       "      <th></th>\n",
       "      <th>true_values</th>\n",
       "      <th>pred_probs</th>\n",
       "      <th>model_preds</th>\n",
       "      <th>model_proba</th>\n",
       "    </tr>\n",
       "  </thead>\n",
       "  <tbody>\n",
       "    <tr>\n",
       "      <th>1305</th>\n",
       "      <td>2</td>\n",
       "      <td>0.441471</td>\n",
       "      <td>2</td>\n",
       "      <td>0.441471</td>\n",
       "    </tr>\n",
       "    <tr>\n",
       "      <th>302</th>\n",
       "      <td>2</td>\n",
       "      <td>0.795646</td>\n",
       "      <td>2</td>\n",
       "      <td>0.795646</td>\n",
       "    </tr>\n",
       "    <tr>\n",
       "      <th>181</th>\n",
       "      <td>0</td>\n",
       "      <td>0.130102</td>\n",
       "      <td>2</td>\n",
       "      <td>0.704646</td>\n",
       "    </tr>\n",
       "    <tr>\n",
       "      <th>1700</th>\n",
       "      <td>1</td>\n",
       "      <td>0.245312</td>\n",
       "      <td>0</td>\n",
       "      <td>0.470855</td>\n",
       "    </tr>\n",
       "    <tr>\n",
       "      <th>124</th>\n",
       "      <td>0</td>\n",
       "      <td>0.559781</td>\n",
       "      <td>0</td>\n",
       "      <td>0.559781</td>\n",
       "    </tr>\n",
       "  </tbody>\n",
       "</table>\n",
       "</div>"
      ],
      "text/plain": [
       "      true_values  pred_probs  model_preds  model_proba\n",
       "1305            2    0.441471            2     0.441471\n",
       "302             2    0.795646            2     0.795646\n",
       "181             0    0.130102            2     0.704646\n",
       "1700            1    0.245312            0     0.470855\n",
       "124             0    0.559781            0     0.559781"
      ]
     },
     "execution_count": 100,
     "metadata": {},
     "output_type": "execute_result"
    }
   ],
   "source": [
    "# Referenced stack overflow for code below\n",
    "# https://stackoverflow.com/questions/5469286/how-to-get-the-index-of-a-maximum-element-in-a-numpy-array-along-one-axis\n",
    "\n",
    "# What value the model predicts\n",
    "model_preds = [i.argmax(axis=0) for i in gs.predict_proba(X_test)]\n",
    "\n",
    "# Model predicted value probability\n",
    "model_proba = [i.max() for i in gs.predict_proba(X_test)]\n",
    "\n",
    "# Model predicted probability of the true value\n",
    "prob_list = []\n",
    "for index, probability in enumerate(gs.predict_proba(X_test)):\n",
    "    prob_list.append(probability[y_test.values[index]])\n",
    "pred_proba = prob_list\n",
    "\n",
    "pred_df = pd.DataFrame({'true_values': y_test,\n",
    "                        'pred_probs':pred_proba,\n",
    "                        'model_preds': model_preds,\n",
    "                        'model_proba': model_proba\n",
    "                        })\n",
    "pred_df.head()"
   ]
  },
  {
   "cell_type": "markdown",
   "metadata": {},
   "source": [
    "## Creating the Figure"
   ]
  },
  {
   "cell_type": "code",
   "execution_count": 101,
   "metadata": {
    "scrolled": false
   },
   "outputs": [
    {
     "data": {
      "image/png": "[encoded data removed]",
      "text/plain": [
       "<Figure size 864x576 with 1 Axes>"
      ]
     },
     "metadata": {
      "needs_background": "light"
     },
     "output_type": "display_data"
    }
   ],
   "source": [
    "# Create figure.\n",
    "plt.figure(figsize = (12,8))\n",
    "\n",
    "# Create three histograms of observations.\n",
    "plt.hist(pred_df[pred_df['true_values'] == 2]['pred_probs'],\n",
    "         bins=25,\n",
    "         color='g',\n",
    "         alpha = 0.4,\n",
    "         label='Predicted Win')\n",
    "plt.hist(pred_df[pred_df['true_values'] == 1]['pred_probs'],\n",
    "         bins=25,\n",
    "         color='orange',\n",
    "         alpha = 0.6,\n",
    "         label='Predicted Draw')\n",
    "plt.hist(pred_df[pred_df['true_values'] == 0]['pred_probs'],\n",
    "         bins=25,\n",
    "         color='r',\n",
    "         alpha = 0.5,\n",
    "         label='Predicted Loss')\n",
    "\n",
    "# Add vertical line at baseline distribution percentage for each class from dataset.\n",
    "plt.vlines(x=0.455732,\n",
    "           ymin = 0,\n",
    "           ymax = 31,\n",
    "           color='b',\n",
    "           linestyle = '--',\n",
    "          label= 'Win Baseline')\n",
    "\n",
    "plt.vlines(x=0.2843,\n",
    "           ymin = 0,\n",
    "           ymax = 31,\n",
    "           color='k',\n",
    "           linestyle = '--',\n",
    "          label = 'Loss Baseline')\n",
    "\n",
    "plt.vlines(x=0.2599,\n",
    "           ymin = 0,\n",
    "           ymax = 31,\n",
    "           color='purple',\n",
    "           linestyle = '--',\n",
    "          label= 'Draw Baseline')\n",
    "\n",
    "# Label axes.\n",
    "plt.title('Random Forest Probability Distribution of Match Results', fontsize=20)\n",
    "plt.ylabel('Frequency', fontsize=18)\n",
    "plt.xlabel('Predicted Probability of Result', fontsize=18)\n",
    "\n",
    "# Set X range\n",
    "plt.xlim(0.05,0.9)\n",
    "\n",
    "# Create legend.\n",
    "plt.legend(fontsize=16);"
   ]
  },
  {
   "cell_type": "code",
   "execution_count": null,
   "metadata": {},
   "outputs": [],
   "source": []
  }
 ],
 "metadata": {
  "kernelspec": {
   "display_name": "Python 3",
   "language": "python",
   "name": "python3"
  },
  "language_info": {
   "codemirror_mode": {
    "name": "ipython",
    "version": 3
   },
   "file_extension": ".py",
   "mimetype": "text/x-python",
   "name": "python",
   "nbconvert_exporter": "python",
   "pygments_lexer": "ipython3",
   "version": "3.7.3"
  }
 },
 "nbformat": 4,
 "nbformat_minor": 2
}
